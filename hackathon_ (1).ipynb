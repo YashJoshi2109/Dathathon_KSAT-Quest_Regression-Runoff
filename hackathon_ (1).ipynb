{
  "cells": [
    {
      "cell_type": "markdown",
      "metadata": {
        "id": "vt7eCvqsk3Tq"
      },
      "source": [
        "Our target variable is ksat which stands for Saturated Hydraulic Conductivity"
      ]
    },
    {
      "cell_type": "markdown",
      "metadata": {
        "id": "_dQahifjii-A"
      },
      "source": [
        "**Data Loading and Understanding**"
      ]
    },
    {
      "cell_type": "code",
      "execution_count": 76,
      "metadata": {
        "id": "FIVk5za3hpt2"
      },
      "outputs": [],
      "source": [
        "import pandas as pd\n",
        "import numpy as np\n",
        "import matplotlib.pyplot as plt\n",
        "import seaborn as sns\n",
        "import warnings\n",
        "warnings.filterwarnings('ignore')"
      ]
    },
    {
      "cell_type": "code",
      "execution_count": 77,
      "metadata": {
        "id": "IoX_UhOfh2a1"
      },
      "outputs": [],
      "source": [
        "data= pd.read_excel('data.xlsx')"
      ]
    },
    {
      "cell_type": "code",
      "execution_count": 78,
      "metadata": {
        "colab": {
          "base_uri": "https://localhost:8080/",
          "height": 394
        },
        "id": "zOPwWX-WiVO-",
        "outputId": "e8e1b861-1029-42d3-d8d0-14e5481d1391"
      },
      "outputs": [
        {
          "data": {
            "text/html": [
              "<div>\n",
              "<style scoped>\n",
              "    .dataframe tbody tr th:only-of-type {\n",
              "        vertical-align: middle;\n",
              "    }\n",
              "\n",
              "    .dataframe tbody tr th {\n",
              "        vertical-align: top;\n",
              "    }\n",
              "\n",
              "    .dataframe thead th {\n",
              "        text-align: right;\n",
              "    }\n",
              "</style>\n",
              "<table border=\"1\" class=\"dataframe\">\n",
              "  <thead>\n",
              "    <tr style=\"text-align: right;\">\n",
              "      <th></th>\n",
              "      <th>Source reference</th>\n",
              "      <th>Soil name</th>\n",
              "      <th>Site label</th>\n",
              "      <th>Depth (cm)</th>\n",
              "      <th>Field/lab</th>\n",
              "      <th>Sample Height (cm)</th>\n",
              "      <th>Sample diameter (cm)</th>\n",
              "      <th>Method</th>\n",
              "      <th>Ksat</th>\n",
              "      <th>Units</th>\n",
              "      <th>...</th>\n",
              "      <th>Stdev_Sand (%)</th>\n",
              "      <th>Stdev_Silt  (%)</th>\n",
              "      <th>Stdev_Clay (%)</th>\n",
              "      <th>Stdev_Coarse_fragments (%)</th>\n",
              "      <th>Textural class.1</th>\n",
              "      <th>Stdev_Organic carbon</th>\n",
              "      <th>Other potentally relevant info</th>\n",
              "      <th>Unnamed: 32</th>\n",
              "      <th>Unnamed: 33</th>\n",
              "      <th>Unnamed: 34</th>\n",
              "    </tr>\n",
              "  </thead>\n",
              "  <tbody>\n",
              "    <tr>\n",
              "      <th>0</th>\n",
              "      <td>1</td>\n",
              "      <td>Groseclose</td>\n",
              "      <td>I/1</td>\n",
              "      <td>0</td>\n",
              "      <td>Lab</td>\n",
              "      <td>4</td>\n",
              "      <td>5.4</td>\n",
              "      <td>Falling head</td>\n",
              "      <td>0.000008</td>\n",
              "      <td>NaN</td>\n",
              "      <td>...</td>\n",
              "      <td>NaN</td>\n",
              "      <td>NaN</td>\n",
              "      <td>NaN</td>\n",
              "      <td>NaN</td>\n",
              "      <td>NaN</td>\n",
              "      <td>NaN</td>\n",
              "      <td>NaN</td>\n",
              "      <td>NaN</td>\n",
              "      <td>NaN</td>\n",
              "      <td>NaN</td>\n",
              "    </tr>\n",
              "    <tr>\n",
              "      <th>1</th>\n",
              "      <td>1</td>\n",
              "      <td>Groseclose</td>\n",
              "      <td>I/1</td>\n",
              "      <td>50</td>\n",
              "      <td>Lab</td>\n",
              "      <td>4</td>\n",
              "      <td>5.4</td>\n",
              "      <td>Falling head</td>\n",
              "      <td>0.000004</td>\n",
              "      <td>NaN</td>\n",
              "      <td>...</td>\n",
              "      <td>NaN</td>\n",
              "      <td>NaN</td>\n",
              "      <td>NaN</td>\n",
              "      <td>NaN</td>\n",
              "      <td>NaN</td>\n",
              "      <td>NaN</td>\n",
              "      <td>NaN</td>\n",
              "      <td>NaN</td>\n",
              "      <td>NaN</td>\n",
              "      <td>NaN</td>\n",
              "    </tr>\n",
              "    <tr>\n",
              "      <th>2</th>\n",
              "      <td>1</td>\n",
              "      <td>Groseclose</td>\n",
              "      <td>I/2</td>\n",
              "      <td>0</td>\n",
              "      <td>Lab</td>\n",
              "      <td>4</td>\n",
              "      <td>5.4</td>\n",
              "      <td>Falling head</td>\n",
              "      <td>0.000004</td>\n",
              "      <td>NaN</td>\n",
              "      <td>...</td>\n",
              "      <td>NaN</td>\n",
              "      <td>NaN</td>\n",
              "      <td>NaN</td>\n",
              "      <td>NaN</td>\n",
              "      <td>NaN</td>\n",
              "      <td>NaN</td>\n",
              "      <td>NaN</td>\n",
              "      <td>NaN</td>\n",
              "      <td>NaN</td>\n",
              "      <td>NaN</td>\n",
              "    </tr>\n",
              "    <tr>\n",
              "      <th>3</th>\n",
              "      <td>1</td>\n",
              "      <td>Groseclose</td>\n",
              "      <td>I/2</td>\n",
              "      <td>50</td>\n",
              "      <td>Lab</td>\n",
              "      <td>4</td>\n",
              "      <td>5.4</td>\n",
              "      <td>Falling head</td>\n",
              "      <td>0.0</td>\n",
              "      <td>NaN</td>\n",
              "      <td>...</td>\n",
              "      <td>NaN</td>\n",
              "      <td>NaN</td>\n",
              "      <td>NaN</td>\n",
              "      <td>NaN</td>\n",
              "      <td>NaN</td>\n",
              "      <td>NaN</td>\n",
              "      <td>NaN</td>\n",
              "      <td>NaN</td>\n",
              "      <td>NaN</td>\n",
              "      <td>NaN</td>\n",
              "    </tr>\n",
              "    <tr>\n",
              "      <th>4</th>\n",
              "      <td>1</td>\n",
              "      <td>Groseclose</td>\n",
              "      <td>I/3</td>\n",
              "      <td>0</td>\n",
              "      <td>Lab</td>\n",
              "      <td>4</td>\n",
              "      <td>5.4</td>\n",
              "      <td>Falling head</td>\n",
              "      <td>0.000001</td>\n",
              "      <td>NaN</td>\n",
              "      <td>...</td>\n",
              "      <td>NaN</td>\n",
              "      <td>NaN</td>\n",
              "      <td>NaN</td>\n",
              "      <td>NaN</td>\n",
              "      <td>NaN</td>\n",
              "      <td>NaN</td>\n",
              "      <td>NaN</td>\n",
              "      <td>NaN</td>\n",
              "      <td>NaN</td>\n",
              "      <td>NaN</td>\n",
              "    </tr>\n",
              "  </tbody>\n",
              "</table>\n",
              "<p>5 rows × 35 columns</p>\n",
              "</div>"
            ],
            "text/plain": [
              "  Source reference   Soil name Site label Depth (cm) Field/lab  \\\n",
              "0                1  Groseclose        I/1          0       Lab   \n",
              "1                1  Groseclose        I/1         50       Lab   \n",
              "2                1  Groseclose        I/2          0       Lab   \n",
              "3                1  Groseclose        I/2         50       Lab   \n",
              "4                1  Groseclose        I/3          0       Lab   \n",
              "\n",
              "  Sample Height (cm) Sample diameter (cm)        Method      Ksat Units  ...  \\\n",
              "0                  4                  5.4  Falling head  0.000008   NaN  ...   \n",
              "1                  4                  5.4  Falling head  0.000004   NaN  ...   \n",
              "2                  4                  5.4  Falling head  0.000004   NaN  ...   \n",
              "3                  4                  5.4  Falling head       0.0   NaN  ...   \n",
              "4                  4                  5.4  Falling head  0.000001   NaN  ...   \n",
              "\n",
              "  Stdev_Sand (%) Stdev_Silt  (%) Stdev_Clay (%) Stdev_Coarse_fragments (%)  \\\n",
              "0            NaN             NaN            NaN                        NaN   \n",
              "1            NaN             NaN            NaN                        NaN   \n",
              "2            NaN             NaN            NaN                        NaN   \n",
              "3            NaN             NaN            NaN                        NaN   \n",
              "4            NaN             NaN            NaN                        NaN   \n",
              "\n",
              "  Textural class.1 Stdev_Organic carbon Other potentally relevant info  \\\n",
              "0              NaN                  NaN                            NaN   \n",
              "1              NaN                  NaN                            NaN   \n",
              "2              NaN                  NaN                            NaN   \n",
              "3              NaN                  NaN                            NaN   \n",
              "4              NaN                  NaN                            NaN   \n",
              "\n",
              "  Unnamed: 32 Unnamed: 33 Unnamed: 34  \n",
              "0         NaN         NaN         NaN  \n",
              "1         NaN         NaN         NaN  \n",
              "2         NaN         NaN         NaN  \n",
              "3         NaN         NaN         NaN  \n",
              "4         NaN         NaN         NaN  \n",
              "\n",
              "[5 rows x 35 columns]"
            ]
          },
          "execution_count": 78,
          "metadata": {},
          "output_type": "execute_result"
        }
      ],
      "source": [
        "data.head()"
      ]
    },
    {
      "cell_type": "markdown",
      "metadata": {
        "id": "j60-63BJielS"
      },
      "source": [
        "We can see that there are many missing values. Also there are unnamed columns which are emplty. We can handle them later."
      ]
    },
    {
      "cell_type": "code",
      "execution_count": 79,
      "metadata": {
        "colab": {
          "base_uri": "https://localhost:8080/"
        },
        "id": "1gAW4kxJicJq",
        "outputId": "54d61ca2-99bb-496e-c043-8cc8abdd81b5"
      },
      "outputs": [
        {
          "name": "stdout",
          "output_type": "stream",
          "text": [
            "<class 'pandas.core.frame.DataFrame'>\n",
            "RangeIndex: 27483 entries, 0 to 27482\n",
            "Data columns (total 35 columns):\n",
            " #   Column                          Non-Null Count  Dtype \n",
            "---  ------                          --------------  ----- \n",
            " 0   Source reference                27450 non-null  object\n",
            " 1   Soil name                       2435 non-null   object\n",
            " 2   Site label                      27375 non-null  object\n",
            " 3   Depth (cm)                      27449 non-null  object\n",
            " 4   Field/lab                       27084 non-null  object\n",
            " 5   Sample Height (cm)              27444 non-null  object\n",
            " 6   Sample diameter (cm)            27440 non-null  object\n",
            " 7   Method                          27448 non-null  object\n",
            " 8   Ksat                            27449 non-null  object\n",
            " 9   Units                           20530 non-null  object\n",
            " 10  Bulk density                    27097 non-null  object\n",
            " 11  Very coarse                     27052 non-null  object\n",
            " 12  Coarse                          20773 non-null  object\n",
            " 13  Medium                          24332 non-null  object\n",
            " 14  Fine                            24406 non-null  object\n",
            " 15  Very fine                       24406 non-null  object\n",
            " 16  Sand (%)                        24406 non-null  object\n",
            " 17  Silt  (%)                       24448 non-null  object\n",
            " 18  Clay (%)                        25204 non-null  object\n",
            " 19  Coarse fragments (%)            25132 non-null  object\n",
            " 20  Textural class                  25088 non-null  object\n",
            " 21  Organic carbon                  67 non-null     object\n",
            " 22  Organic matter                  24962 non-null  object\n",
            " 23  Units.1                         24387 non-null  object\n",
            " 24  Stdev_Bulk density              55 non-null     object\n",
            " 25  Stdev_Sand (%)                  63 non-null     object\n",
            " 26  Stdev_Silt  (%)                 127 non-null    object\n",
            " 27  Stdev_Clay (%)                  182 non-null    object\n",
            " 28  Stdev_Coarse_fragments (%)      47 non-null     object\n",
            " 29  Textural class.1                41 non-null     object\n",
            " 30  Stdev_Organic carbon            41 non-null     object\n",
            " 31  Other potentally relevant info  33 non-null     object\n",
            " 32  Unnamed: 32                     33 non-null     object\n",
            " 33  Unnamed: 33                     32 non-null     object\n",
            " 34  Unnamed: 34                     156 non-null    object\n",
            "dtypes: object(35)\n",
            "memory usage: 7.3+ MB\n"
          ]
        }
      ],
      "source": [
        "data.info()"
      ]
    },
    {
      "cell_type": "markdown",
      "metadata": {
        "id": "Q4Uioq42j1Ad"
      },
      "source": [
        "We can see that many features here have wrong data type. For eg, sample height, sample diameter etc.We will handle them in data cleaning steps."
      ]
    },
    {
      "cell_type": "code",
      "execution_count": 80,
      "metadata": {
        "colab": {
          "base_uri": "https://localhost:8080/",
          "height": 345
        },
        "id": "QB_-v-7Ti11V",
        "outputId": "f37e34e3-c948-481f-91e7-253c95345bc9"
      },
      "outputs": [
        {
          "data": {
            "text/html": [
              "<div>\n",
              "<style scoped>\n",
              "    .dataframe tbody tr th:only-of-type {\n",
              "        vertical-align: middle;\n",
              "    }\n",
              "\n",
              "    .dataframe tbody tr th {\n",
              "        vertical-align: top;\n",
              "    }\n",
              "\n",
              "    .dataframe thead th {\n",
              "        text-align: right;\n",
              "    }\n",
              "</style>\n",
              "<table border=\"1\" class=\"dataframe\">\n",
              "  <thead>\n",
              "    <tr style=\"text-align: right;\">\n",
              "      <th></th>\n",
              "      <th>Source reference</th>\n",
              "      <th>Soil name</th>\n",
              "      <th>Site label</th>\n",
              "      <th>Depth (cm)</th>\n",
              "      <th>Field/lab</th>\n",
              "      <th>Sample Height (cm)</th>\n",
              "      <th>Sample diameter (cm)</th>\n",
              "      <th>Method</th>\n",
              "      <th>Ksat</th>\n",
              "      <th>Units</th>\n",
              "      <th>...</th>\n",
              "      <th>Stdev_Sand (%)</th>\n",
              "      <th>Stdev_Silt  (%)</th>\n",
              "      <th>Stdev_Clay (%)</th>\n",
              "      <th>Stdev_Coarse_fragments (%)</th>\n",
              "      <th>Textural class.1</th>\n",
              "      <th>Stdev_Organic carbon</th>\n",
              "      <th>Other potentally relevant info</th>\n",
              "      <th>Unnamed: 32</th>\n",
              "      <th>Unnamed: 33</th>\n",
              "      <th>Unnamed: 34</th>\n",
              "    </tr>\n",
              "  </thead>\n",
              "  <tbody>\n",
              "    <tr>\n",
              "      <th>count</th>\n",
              "      <td>27450</td>\n",
              "      <td>2435</td>\n",
              "      <td>27375</td>\n",
              "      <td>27449</td>\n",
              "      <td>27084</td>\n",
              "      <td>27444</td>\n",
              "      <td>27440.0</td>\n",
              "      <td>27448</td>\n",
              "      <td>27449</td>\n",
              "      <td>20530.00</td>\n",
              "      <td>...</td>\n",
              "      <td>63</td>\n",
              "      <td>127</td>\n",
              "      <td>182</td>\n",
              "      <td>47</td>\n",
              "      <td>41</td>\n",
              "      <td>41</td>\n",
              "      <td>33</td>\n",
              "      <td>33</td>\n",
              "      <td>32</td>\n",
              "      <td>156</td>\n",
              "    </tr>\n",
              "    <tr>\n",
              "      <th>unique</th>\n",
              "      <td>40</td>\n",
              "      <td>327</td>\n",
              "      <td>347</td>\n",
              "      <td>3516</td>\n",
              "      <td>681</td>\n",
              "      <td>8</td>\n",
              "      <td>23.0</td>\n",
              "      <td>21</td>\n",
              "      <td>165</td>\n",
              "      <td>2737.00</td>\n",
              "      <td>...</td>\n",
              "      <td>4</td>\n",
              "      <td>30</td>\n",
              "      <td>87</td>\n",
              "      <td>13</td>\n",
              "      <td>11</td>\n",
              "      <td>11</td>\n",
              "      <td>3</td>\n",
              "      <td>3</td>\n",
              "      <td>2</td>\n",
              "      <td>19</td>\n",
              "    </tr>\n",
              "    <tr>\n",
              "      <th>top</th>\n",
              "      <td>35</td>\n",
              "      <td>Groseclose</td>\n",
              "      <td>Alachua</td>\n",
              "      <td>0cm..15cm</td>\n",
              "      <td>A</td>\n",
              "      <td>lab</td>\n",
              "      <td>5.4</td>\n",
              "      <td>3</td>\n",
              "      <td>Constant Head</td>\n",
              "      <td>0.01</td>\n",
              "      <td>...</td>\n",
              "      <td>Units</td>\n",
              "      <td>Stdev_Bulk density</td>\n",
              "      <td>Stdev_Ksat</td>\n",
              "      <td>Stdev_Sand (%)</td>\n",
              "      <td>Stdev_Silt  (%)</td>\n",
              "      <td>Stdev_Clay (%)</td>\n",
              "      <td>Stdev_Coarse_fragments (%)</td>\n",
              "      <td>Textural class</td>\n",
              "      <td>Stdev_Organic carbon</td>\n",
              "      <td>Ksat = geomean, Ksat Stvd = stdv Ksat log 10, ...</td>\n",
              "    </tr>\n",
              "    <tr>\n",
              "      <th>freq</th>\n",
              "      <td>24816</td>\n",
              "      <td>152</td>\n",
              "      <td>1023</td>\n",
              "      <td>723</td>\n",
              "      <td>1954</td>\n",
              "      <td>26592</td>\n",
              "      <td>26067.0</td>\n",
              "      <td>25991</td>\n",
              "      <td>26303</td>\n",
              "      <td>230.00</td>\n",
              "      <td>...</td>\n",
              "      <td>32</td>\n",
              "      <td>32</td>\n",
              "      <td>30</td>\n",
              "      <td>30</td>\n",
              "      <td>30</td>\n",
              "      <td>30</td>\n",
              "      <td>30</td>\n",
              "      <td>30</td>\n",
              "      <td>30</td>\n",
              "      <td>41</td>\n",
              "    </tr>\n",
              "  </tbody>\n",
              "</table>\n",
              "<p>4 rows × 35 columns</p>\n",
              "</div>"
            ],
            "text/plain": [
              "        Source reference   Soil name Site label Depth (cm) Field/lab  \\\n",
              "count              27450        2435      27375      27449     27084   \n",
              "unique                40         327        347       3516       681   \n",
              "top                   35  Groseclose    Alachua  0cm..15cm         A   \n",
              "freq               24816         152       1023        723      1954   \n",
              "\n",
              "       Sample Height (cm)  Sample diameter (cm)  Method           Ksat  \\\n",
              "count               27444               27440.0   27448          27449   \n",
              "unique                  8                  23.0      21            165   \n",
              "top                   lab                   5.4       3  Constant Head   \n",
              "freq                26592               26067.0   25991          26303   \n",
              "\n",
              "           Units  ... Stdev_Sand (%)     Stdev_Silt  (%)  Stdev_Clay (%)  \\\n",
              "count   20530.00  ...             63                 127             182   \n",
              "unique   2737.00  ...              4                  30              87   \n",
              "top         0.01  ...          Units  Stdev_Bulk density      Stdev_Ksat   \n",
              "freq      230.00  ...             32                  32              30   \n",
              "\n",
              "        Stdev_Coarse_fragments (%)  Textural class.1  Stdev_Organic carbon  \\\n",
              "count                           47                41                    41   \n",
              "unique                          13                11                    11   \n",
              "top                 Stdev_Sand (%)   Stdev_Silt  (%)        Stdev_Clay (%)   \n",
              "freq                            30                30                    30   \n",
              "\n",
              "        Other potentally relevant info     Unnamed: 32           Unnamed: 33  \\\n",
              "count                               33              33                    32   \n",
              "unique                               3               3                     2   \n",
              "top         Stdev_Coarse_fragments (%)  Textural class  Stdev_Organic carbon   \n",
              "freq                                30              30                    30   \n",
              "\n",
              "                                              Unnamed: 34  \n",
              "count                                                 156  \n",
              "unique                                                 19  \n",
              "top     Ksat = geomean, Ksat Stvd = stdv Ksat log 10, ...  \n",
              "freq                                                   41  \n",
              "\n",
              "[4 rows x 35 columns]"
            ]
          },
          "execution_count": 80,
          "metadata": {},
          "output_type": "execute_result"
        }
      ],
      "source": [
        "data.describe()"
      ]
    },
    {
      "cell_type": "markdown",
      "metadata": {
        "id": "4mA5TLNTlvVz"
      },
      "source": [
        "**Remove unnecessary spaces from column names**"
      ]
    },
    {
      "cell_type": "code",
      "execution_count": 81,
      "metadata": {
        "id": "kMPky1XkmHxk"
      },
      "outputs": [],
      "source": [
        "# Strip leading/trailing and inner multiple spaces\n",
        "data.columns = data.columns.str.strip().str.replace(r'\\s+', ' ', regex=True)\n"
      ]
    },
    {
      "cell_type": "code",
      "execution_count": 82,
      "metadata": {
        "id": "of3oKa-JmW7n"
      },
      "outputs": [],
      "source": [
        "# Replace symbols and clean up for consistency\n",
        "data.columns = data.columns.str.replace(' (%)', '_percent', regex=False)\n",
        "data.columns = data.columns.str.replace(' ', '_')  # Replace space with underscore\n",
        "data.columns = data.columns.str.replace('(', '').str.replace(')', '')\n",
        "data.columns = data.columns.str.replace('.', '', regex=False)\n"
      ]
    },
    {
      "cell_type": "code",
      "execution_count": 83,
      "metadata": {
        "colab": {
          "base_uri": "https://localhost:8080/"
        },
        "id": "IGeXfXepmlWh",
        "outputId": "6ca5f1fd-07fc-45fc-9a5b-f34c59ee2ebb"
      },
      "outputs": [
        {
          "name": "stdout",
          "output_type": "stream",
          "text": [
            "['Source_reference', 'Soil_name', 'Site_label', 'Depth_cm', 'Field/lab', 'Sample_Height_cm', 'Sample_diameter_cm', 'Method', 'Ksat', 'Units', 'Bulk_density', 'Very_coarse', 'Coarse', 'Medium', 'Fine', 'Very_fine', 'Sand_percent', 'Silt_percent', 'Clay_percent', 'Coarse_fragments_percent', 'Textural_class', 'Organic_carbon', 'Organic_matter', 'Units1', 'Stdev_Bulk_density', 'Stdev_Sand_percent', 'Stdev_Silt_percent', 'Stdev_Clay_percent', 'Stdev_Coarse_fragments_percent', 'Textural_class1', 'Stdev_Organic_carbon', 'Other_potentally_relevant_info', 'Unnamed:_32', 'Unnamed:_33', 'Unnamed:_34']\n"
          ]
        }
      ],
      "source": [
        "print(data.columns.tolist())\n"
      ]
    },
    {
      "cell_type": "code",
      "execution_count": 84,
      "metadata": {
        "colab": {
          "base_uri": "https://localhost:8080/"
        },
        "id": "1qC4FMDwkKFM",
        "outputId": "b5132716-8dec-4185-e2d5-a0fe98f96569"
      },
      "outputs": [
        {
          "name": "stdout",
          "output_type": "stream",
          "text": [
            "Unnamed:_33                       99.883564\n",
            "Unnamed:_32                       99.879926\n",
            "Other_potentally_relevant_info    99.879926\n",
            "Stdev_Organic_carbon              99.850817\n",
            "Textural_class1                   99.850817\n",
            "Stdev_Coarse_fragments_percent    99.828985\n",
            "Stdev_Bulk_density                99.799876\n",
            "Stdev_Sand_percent                99.770767\n",
            "Organic_carbon                    99.756213\n",
            "Stdev_Silt_percent                99.537896\n",
            "Unnamed:_34                       99.432376\n",
            "Stdev_Clay_percent                99.337772\n",
            "Soil_name                         91.139977\n",
            "Units                             25.299276\n",
            "Coarse                            24.415093\n",
            "Medium                            11.465269\n",
            "Units1                            11.265146\n",
            "Fine                              11.196012\n",
            "Very_fine                         11.196012\n",
            "Sand_percent                      11.196012\n",
            "Silt_percent                      11.043190\n",
            "Organic_matter                     9.172943\n",
            "Textural_class                     8.714478\n",
            "Coarse_fragments_percent           8.554379\n",
            "Clay_percent                       8.292399\n",
            "Very_coarse                        1.568242\n",
            "Field/lab                          1.451807\n",
            "Bulk_density                       1.404505\n",
            "Site_label                         0.392970\n",
            "Sample_diameter_cm                 0.156460\n",
            "Sample_Height_cm                   0.141906\n",
            "Method                             0.127351\n",
            "Ksat                               0.123713\n",
            "Depth_cm                           0.123713\n",
            "Source_reference                   0.120074\n",
            "dtype: float64\n"
          ]
        }
      ],
      "source": [
        "missing_percent = data.isnull().mean() * 100\n",
        "missing_summary = missing_percent[missing_percent > 0].sort_values(ascending=False)\n",
        "\n",
        "# Display the result\n",
        "print(missing_summary)\n"
      ]
    },
    {
      "cell_type": "markdown",
      "metadata": {
        "id": "D9edRFCGkcdL"
      },
      "source": [
        "There are many missing values"
      ]
    },
    {
      "cell_type": "markdown",
      "metadata": {
        "id": "38RXhuAtnRtb"
      },
      "source": [
        "**Removing the unnamed columns**"
      ]
    },
    {
      "cell_type": "code",
      "execution_count": 85,
      "metadata": {
        "id": "-4HUdynflc0w"
      },
      "outputs": [],
      "source": [
        "# Remove columns that start with 'Unnamed'\n",
        "data = data.loc[:, ~data.columns.str.startswith('Unnamed')]\n"
      ]
    },
    {
      "cell_type": "code",
      "execution_count": 86,
      "metadata": {
        "colab": {
          "base_uri": "https://localhost:8080/"
        },
        "id": "wFvXgtZZnhOC",
        "outputId": "b01003b7-55dc-4dd4-a0af-7fe818a0418d"
      },
      "outputs": [
        {
          "name": "stdout",
          "output_type": "stream",
          "text": [
            "<class 'pandas.core.frame.DataFrame'>\n",
            "RangeIndex: 27483 entries, 0 to 27482\n",
            "Data columns (total 32 columns):\n",
            " #   Column                          Non-Null Count  Dtype \n",
            "---  ------                          --------------  ----- \n",
            " 0   Source_reference                27450 non-null  object\n",
            " 1   Soil_name                       2435 non-null   object\n",
            " 2   Site_label                      27375 non-null  object\n",
            " 3   Depth_cm                        27449 non-null  object\n",
            " 4   Field/lab                       27084 non-null  object\n",
            " 5   Sample_Height_cm                27444 non-null  object\n",
            " 6   Sample_diameter_cm              27440 non-null  object\n",
            " 7   Method                          27448 non-null  object\n",
            " 8   Ksat                            27449 non-null  object\n",
            " 9   Units                           20530 non-null  object\n",
            " 10  Bulk_density                    27097 non-null  object\n",
            " 11  Very_coarse                     27052 non-null  object\n",
            " 12  Coarse                          20773 non-null  object\n",
            " 13  Medium                          24332 non-null  object\n",
            " 14  Fine                            24406 non-null  object\n",
            " 15  Very_fine                       24406 non-null  object\n",
            " 16  Sand_percent                    24406 non-null  object\n",
            " 17  Silt_percent                    24448 non-null  object\n",
            " 18  Clay_percent                    25204 non-null  object\n",
            " 19  Coarse_fragments_percent        25132 non-null  object\n",
            " 20  Textural_class                  25088 non-null  object\n",
            " 21  Organic_carbon                  67 non-null     object\n",
            " 22  Organic_matter                  24962 non-null  object\n",
            " 23  Units1                          24387 non-null  object\n",
            " 24  Stdev_Bulk_density              55 non-null     object\n",
            " 25  Stdev_Sand_percent              63 non-null     object\n",
            " 26  Stdev_Silt_percent              127 non-null    object\n",
            " 27  Stdev_Clay_percent              182 non-null    object\n",
            " 28  Stdev_Coarse_fragments_percent  47 non-null     object\n",
            " 29  Textural_class1                 41 non-null     object\n",
            " 30  Stdev_Organic_carbon            41 non-null     object\n",
            " 31  Other_potentally_relevant_info  33 non-null     object\n",
            "dtypes: object(32)\n",
            "memory usage: 6.7+ MB\n"
          ]
        }
      ],
      "source": [
        "data.info()"
      ]
    },
    {
      "cell_type": "markdown",
      "metadata": {
        "id": "nncDajWZoqZs"
      },
      "source": [
        "So here we ahve dropped the unnamed columns and check again and boom! it got removed💁🏼"
      ]
    },
    {
      "cell_type": "markdown",
      "metadata": {
        "id": "zHzuXoCQsRG8"
      },
      "source": [
        "I checked the columns in the dataset which are empty in the and now will check in what percentage are they misisng."
      ]
    },
    {
      "cell_type": "code",
      "execution_count": 87,
      "metadata": {
        "colab": {
          "base_uri": "https://localhost:8080/",
          "height": 491
        },
        "id": "epvxe0GbnijJ",
        "outputId": "6428e7f6-f204-4dac-b357-f3766e74b790"
      },
      "outputs": [
        {
          "data": {
            "text/plain": [
              "Coarse_fragments_percent           8.554379\n",
              "Textural_class                     8.714478\n",
              "Organic_carbon                    99.756213\n",
              "Organic_matter                     9.172943\n",
              "Units                             25.299276\n",
              "Stdev_Bulk_density                99.799876\n",
              "Stdev_Sand_percent                99.770767\n",
              "Stdev_Silt_percent                99.537896\n",
              "Stdev_Clay_percent                99.337772\n",
              "Stdev_Coarse_fragments_percent    99.828985\n",
              "Textural_class1                   99.850817\n",
              "Stdev_Organic_carbon              99.850817\n",
              "Other_potentally_relevant_info    99.879926\n",
              "dtype: float64"
            ]
          },
          "execution_count": 87,
          "metadata": {},
          "output_type": "execute_result"
        }
      ],
      "source": [
        "# List the suspect columns\n",
        "suspect_cols = [\n",
        "    'Coarse_fragments_percent', 'Textural_class', 'Organic_carbon',\n",
        "    'Organic_matter', 'Units', 'Stdev_Bulk_density', 'Stdev_Sand_percent',\n",
        "    'Stdev_Silt_percent', 'Stdev_Clay_percent', 'Stdev_Coarse_fragments_percent',\n",
        "    'Textural_class1', 'Stdev_Organic_carbon', 'Other_potentally_relevant_info'\n",
        "]\n",
        "\n",
        "# Check % missing in these\n",
        "data[suspect_cols].isnull().mean() * 100\n"
      ]
    },
    {
      "cell_type": "markdown",
      "metadata": {
        "id": "ZmD7_WJluD8c"
      },
      "source": [
        "Most of these columns are >99% missing and will bring noise, not value and keeping.👀"
      ]
    },
    {
      "cell_type": "code",
      "execution_count": 88,
      "metadata": {
        "id": "rUEGF50XoZxS"
      },
      "outputs": [],
      "source": [
        "drop_cols = [\n",
        "    'Organic_carbon', 'Stdev_Bulk_density', 'Stdev_Sand_percent', 'Stdev_Silt_percent',\n",
        "    'Stdev_Clay_percent', 'Stdev_Coarse_fragments_percent', 'Textural_class1',\n",
        "    'Stdev_Organic_carbon', 'Other_potentally_relevant_info'\n",
        "]\n",
        "\n",
        "data.drop(columns=drop_cols, inplace=True)\n"
      ]
    },
    {
      "cell_type": "code",
      "execution_count": 89,
      "metadata": {
        "colab": {
          "base_uri": "https://localhost:8080/"
        },
        "id": "5OJvJHVavijJ",
        "outputId": "13281d00-daf8-416a-9359-423db5f4576c"
      },
      "outputs": [
        {
          "name": "stdout",
          "output_type": "stream",
          "text": [
            "<class 'pandas.core.frame.DataFrame'>\n",
            "RangeIndex: 27483 entries, 0 to 27482\n",
            "Data columns (total 23 columns):\n",
            " #   Column                    Non-Null Count  Dtype \n",
            "---  ------                    --------------  ----- \n",
            " 0   Source_reference          27450 non-null  object\n",
            " 1   Soil_name                 2435 non-null   object\n",
            " 2   Site_label                27375 non-null  object\n",
            " 3   Depth_cm                  27449 non-null  object\n",
            " 4   Field/lab                 27084 non-null  object\n",
            " 5   Sample_Height_cm          27444 non-null  object\n",
            " 6   Sample_diameter_cm        27440 non-null  object\n",
            " 7   Method                    27448 non-null  object\n",
            " 8   Ksat                      27449 non-null  object\n",
            " 9   Units                     20530 non-null  object\n",
            " 10  Bulk_density              27097 non-null  object\n",
            " 11  Very_coarse               27052 non-null  object\n",
            " 12  Coarse                    20773 non-null  object\n",
            " 13  Medium                    24332 non-null  object\n",
            " 14  Fine                      24406 non-null  object\n",
            " 15  Very_fine                 24406 non-null  object\n",
            " 16  Sand_percent              24406 non-null  object\n",
            " 17  Silt_percent              24448 non-null  object\n",
            " 18  Clay_percent              25204 non-null  object\n",
            " 19  Coarse_fragments_percent  25132 non-null  object\n",
            " 20  Textural_class            25088 non-null  object\n",
            " 21  Organic_matter            24962 non-null  object\n",
            " 22  Units1                    24387 non-null  object\n",
            "dtypes: object(23)\n",
            "memory usage: 4.8+ MB\n"
          ]
        }
      ],
      "source": [
        "data.info()"
      ]
    },
    {
      "cell_type": "code",
      "execution_count": 90,
      "metadata": {
        "id": "KD971ebJvqxy"
      },
      "outputs": [],
      "source": [
        "numeric_columns = [\n",
        "    'Depth_cm', 'Sample_Height_cm', 'Sample_diameter_cm',\n",
        "    'Ksat', 'Bulk_density', 'Very_coarse', 'Coarse', 'Medium',\n",
        "    'Fine', 'Very_fine', 'Sand_percent', 'Silt_percent',\n",
        "    'Clay_percent', 'Coarse_fragments_percent', 'Organic_matter'\n",
        "]\n"
      ]
    },
    {
      "cell_type": "code",
      "execution_count": 91,
      "metadata": {
        "id": "r7AxZoQSv7X1"
      },
      "outputs": [],
      "source": [
        "for col in numeric_columns:\n",
        "    data[col] = pd.to_numeric(data[col], errors='coerce')\n"
      ]
    },
    {
      "cell_type": "code",
      "execution_count": 92,
      "metadata": {
        "colab": {
          "base_uri": "https://localhost:8080/"
        },
        "id": "xGwwNVoSv-dH",
        "outputId": "ad4c5098-4d24-4e8b-dc70-5a900edaae1a"
      },
      "outputs": [
        {
          "name": "stdout",
          "output_type": "stream",
          "text": [
            "<class 'pandas.core.frame.DataFrame'>\n",
            "RangeIndex: 27483 entries, 0 to 27482\n",
            "Data columns (total 23 columns):\n",
            " #   Column                    Non-Null Count  Dtype  \n",
            "---  ------                    --------------  -----  \n",
            " 0   Source_reference          27450 non-null  object \n",
            " 1   Soil_name                 2435 non-null   object \n",
            " 2   Site_label                27375 non-null  object \n",
            " 3   Depth_cm                  497 non-null    float64\n",
            " 4   Field/lab                 27084 non-null  object \n",
            " 5   Sample_Height_cm          152 non-null    float64\n",
            " 6   Sample_diameter_cm        27407 non-null  float64\n",
            " 7   Method                    27448 non-null  object \n",
            " 8   Ksat                      151 non-null    float64\n",
            " 9   Units                     20530 non-null  object \n",
            " 10  Bulk_density              75 non-null     float64\n",
            " 11  Very_coarse               27019 non-null  float64\n",
            " 12  Coarse                    20669 non-null  float64\n",
            " 13  Medium                    24297 non-null  float64\n",
            " 14  Fine                      24372 non-null  float64\n",
            " 15  Very_fine                 24373 non-null  float64\n",
            " 16  Sand_percent              24373 non-null  float64\n",
            " 17  Silt_percent              24414 non-null  float64\n",
            " 18  Clay_percent              25155 non-null  float64\n",
            " 19  Coarse_fragments_percent  25085 non-null  float64\n",
            " 20  Textural_class            25088 non-null  object \n",
            " 21  Organic_matter            127 non-null    float64\n",
            " 22  Units1                    24387 non-null  object \n",
            "dtypes: float64(15), object(8)\n",
            "memory usage: 4.8+ MB\n"
          ]
        }
      ],
      "source": [
        "data.info()"
      ]
    },
    {
      "cell_type": "markdown",
      "metadata": {
        "id": "L8hq70df0m1R"
      },
      "source": [
        "Now extra columns are removed lets work on these features now.Lets again check for missing values and move on😌"
      ]
    },
    {
      "cell_type": "code",
      "execution_count": 93,
      "metadata": {
        "colab": {
          "base_uri": "https://localhost:8080/",
          "height": 805
        },
        "id": "HFWMY_-M8SY2",
        "outputId": "46dfbad0-0a38-463c-8f20-5fa1abcad728"
      },
      "outputs": [
        {
          "data": {
            "text/plain": [
              "Bulk_density                99.727104\n",
              "Organic_matter              99.537896\n",
              "Ksat                        99.450569\n",
              "Sample_Height_cm            99.446931\n",
              "Depth_cm                    98.191609\n",
              "Soil_name                   91.139977\n",
              "Units                       25.299276\n",
              "Coarse                      24.793509\n",
              "Medium                      11.592621\n",
              "Fine                        11.319725\n",
              "Very_fine                   11.316086\n",
              "Sand_percent                11.316086\n",
              "Units1                      11.265146\n",
              "Silt_percent                11.166903\n",
              "Coarse_fragments_percent     8.725394\n",
              "Textural_class               8.714478\n",
              "Clay_percent                 8.470691\n",
              "Very_coarse                  1.688316\n",
              "Field/lab                    1.451807\n",
              "Site_label                   0.392970\n",
              "Sample_diameter_cm           0.276535\n",
              "Method                       0.127351\n",
              "Source_reference             0.120074\n",
              "dtype: float64"
            ]
          },
          "execution_count": 93,
          "metadata": {},
          "output_type": "execute_result"
        }
      ],
      "source": [
        "# Calculate the percentage of missing values in each column\n",
        "missing_percent = data.isnull().mean() * 100\n",
        "\n",
        "# Filter columns with more than 0% missing values and sort them in descending order\n",
        "missing_summary = missing_percent[missing_percent > 0].sort_values(ascending=False)\n",
        "\n",
        "# Display the summary of missing values\n",
        "missing_summary\n"
      ]
    },
    {
      "cell_type": "code",
      "execution_count": 94,
      "metadata": {},
      "outputs": [
        {
          "name": "stdout",
          "output_type": "stream",
          "text": [
            "Shape of data: (27483, 23)\n"
          ]
        }
      ],
      "source": [
        "print(\"Shape of data:\", data.shape)\n"
      ]
    },
    {
      "cell_type": "code",
      "execution_count": 95,
      "metadata": {
        "id": "5Rb_xfcP_ong"
      },
      "outputs": [],
      "source": [
        "# Fill missing numerical values with median\n",
        "for col in numeric_columns:\n",
        "    if data[col].isnull().any():\n",
        "        median_val = data[col].median()  # Get the median\n",
        "        data[col].fillna(median_val, inplace=True)\n",
        "\n",
        "# Fill missing categorical values with mode\n",
        "categorical_cols = ['Textural_class', 'Units']  # Add other categorical columns\n",
        "for col in categorical_cols:\n",
        "    if data[col].isnull().any():\n",
        "        mode_val = data[col].mode()[0]  # Get the mode\n",
        "        data[col].fillna(mode_val, inplace=True)\n"
      ]
    },
    {
      "cell_type": "code",
      "execution_count": 96,
      "metadata": {
        "colab": {
          "base_uri": "https://localhost:8080/",
          "height": 554
        },
        "id": "fUsv_nyC__Jg",
        "outputId": "989f62d1-bfdc-41d9-b093-eb644fa480dc"
      },
      "outputs": [
        {
          "data": {
            "text/plain": [
              "Depth_cm                    0\n",
              "Sample_Height_cm            0\n",
              "Sample_diameter_cm          0\n",
              "Ksat                        0\n",
              "Bulk_density                0\n",
              "Very_coarse                 0\n",
              "Coarse                      0\n",
              "Medium                      0\n",
              "Fine                        0\n",
              "Very_fine                   0\n",
              "Sand_percent                0\n",
              "Silt_percent                0\n",
              "Clay_percent                0\n",
              "Coarse_fragments_percent    0\n",
              "Organic_matter              0\n",
              "dtype: int64"
            ]
          },
          "execution_count": 96,
          "metadata": {},
          "output_type": "execute_result"
        }
      ],
      "source": [
        "data[numeric_columns].isnull().sum()"
      ]
    },
    {
      "cell_type": "code",
      "execution_count": 97,
      "metadata": {
        "colab": {
          "base_uri": "https://localhost:8080/",
          "height": 147
        },
        "id": "_uzIR0i1BJWl",
        "outputId": "b917125f-38bb-41a1-baa2-4f6f314a2930"
      },
      "outputs": [
        {
          "data": {
            "text/plain": [
              "Textural_class    0\n",
              "Units             0\n",
              "dtype: int64"
            ]
          },
          "execution_count": 97,
          "metadata": {},
          "output_type": "execute_result"
        }
      ],
      "source": [
        "data[categorical_cols].isnull().sum()"
      ]
    },
    {
      "cell_type": "code",
      "execution_count": 98,
      "metadata": {},
      "outputs": [
        {
          "name": "stdout",
          "output_type": "stream",
          "text": [
            "Shape of data: (27483, 23)\n",
            "\n",
            "Detailed statistics:\n"
          ]
        },
        {
          "data": {
            "text/html": [
              "<div>\n",
              "<style scoped>\n",
              "    .dataframe tbody tr th:only-of-type {\n",
              "        vertical-align: middle;\n",
              "    }\n",
              "\n",
              "    .dataframe tbody tr th {\n",
              "        vertical-align: top;\n",
              "    }\n",
              "\n",
              "    .dataframe thead th {\n",
              "        text-align: right;\n",
              "    }\n",
              "</style>\n",
              "<table border=\"1\" class=\"dataframe\">\n",
              "  <thead>\n",
              "    <tr style=\"text-align: right;\">\n",
              "      <th></th>\n",
              "      <th>Depth_cm</th>\n",
              "      <th>Sample_Height_cm</th>\n",
              "      <th>Sample_diameter_cm</th>\n",
              "      <th>Ksat</th>\n",
              "      <th>Bulk_density</th>\n",
              "      <th>Very_coarse</th>\n",
              "      <th>Coarse</th>\n",
              "      <th>Medium</th>\n",
              "      <th>Fine</th>\n",
              "      <th>Very_fine</th>\n",
              "      <th>Sand_percent</th>\n",
              "      <th>Silt_percent</th>\n",
              "      <th>Clay_percent</th>\n",
              "      <th>Coarse_fragments_percent</th>\n",
              "      <th>Organic_matter</th>\n",
              "    </tr>\n",
              "  </thead>\n",
              "  <tbody>\n",
              "    <tr>\n",
              "      <th>count</th>\n",
              "      <td>27483.000000</td>\n",
              "      <td>27483.000000</td>\n",
              "      <td>27483.000000</td>\n",
              "      <td>2.748300e+04</td>\n",
              "      <td>27483.000000</td>\n",
              "      <td>27483.000000</td>\n",
              "      <td>27483.000000</td>\n",
              "      <td>27483.000000</td>\n",
              "      <td>27483.000000</td>\n",
              "      <td>27483.000000</td>\n",
              "      <td>27483.000000</td>\n",
              "      <td>27483.000000</td>\n",
              "      <td>27483.000000</td>\n",
              "      <td>27483.000000</td>\n",
              "      <td>27483.000000</td>\n",
              "    </tr>\n",
              "    <tr>\n",
              "      <th>mean</th>\n",
              "      <td>50.351381</td>\n",
              "      <td>5.005531</td>\n",
              "      <td>5.685920</td>\n",
              "      <td>9.742220e-06</td>\n",
              "      <td>1.410009</td>\n",
              "      <td>0.762779</td>\n",
              "      <td>1.521619</td>\n",
              "      <td>0.413529</td>\n",
              "      <td>3.912468</td>\n",
              "      <td>20.478642</td>\n",
              "      <td>48.294189</td>\n",
              "      <td>10.015154</td>\n",
              "      <td>83.231829</td>\n",
              "      <td>6.841002</td>\n",
              "      <td>0.404529</td>\n",
              "    </tr>\n",
              "    <tr>\n",
              "      <th>std</th>\n",
              "      <td>8.129272</td>\n",
              "      <td>0.196687</td>\n",
              "      <td>3.574158</td>\n",
              "      <td>4.857517e-06</td>\n",
              "      <td>0.007186</td>\n",
              "      <td>0.490705</td>\n",
              "      <td>0.365836</td>\n",
              "      <td>1.311926</td>\n",
              "      <td>4.875534</td>\n",
              "      <td>15.819190</td>\n",
              "      <td>20.169785</td>\n",
              "      <td>8.661838</td>\n",
              "      <td>26.435620</td>\n",
              "      <td>10.015666</td>\n",
              "      <td>0.129403</td>\n",
              "    </tr>\n",
              "    <tr>\n",
              "      <th>min</th>\n",
              "      <td>0.000000</td>\n",
              "      <td>4.000000</td>\n",
              "      <td>0.000000</td>\n",
              "      <td>7.430000e-09</td>\n",
              "      <td>0.950000</td>\n",
              "      <td>0.000000</td>\n",
              "      <td>-0.234150</td>\n",
              "      <td>0.000000</td>\n",
              "      <td>0.000000</td>\n",
              "      <td>0.000000</td>\n",
              "      <td>0.000000</td>\n",
              "      <td>0.000000</td>\n",
              "      <td>0.000000</td>\n",
              "      <td>-3.745905</td>\n",
              "      <td>0.000000</td>\n",
              "    </tr>\n",
              "    <tr>\n",
              "      <th>25%</th>\n",
              "      <td>50.000000</td>\n",
              "      <td>5.000000</td>\n",
              "      <td>5.400000</td>\n",
              "      <td>9.580000e-06</td>\n",
              "      <td>1.410000</td>\n",
              "      <td>1.000000</td>\n",
              "      <td>1.480000</td>\n",
              "      <td>0.000000</td>\n",
              "      <td>0.900000</td>\n",
              "      <td>8.800000</td>\n",
              "      <td>34.200000</td>\n",
              "      <td>4.100000</td>\n",
              "      <td>77.400000</td>\n",
              "      <td>2.200000</td>\n",
              "      <td>0.400000</td>\n",
              "    </tr>\n",
              "    <tr>\n",
              "      <th>50%</th>\n",
              "      <td>50.000000</td>\n",
              "      <td>5.000000</td>\n",
              "      <td>5.400000</td>\n",
              "      <td>9.580000e-06</td>\n",
              "      <td>1.410000</td>\n",
              "      <td>1.000000</td>\n",
              "      <td>1.540000</td>\n",
              "      <td>0.100000</td>\n",
              "      <td>2.300000</td>\n",
              "      <td>16.900000</td>\n",
              "      <td>47.500000</td>\n",
              "      <td>7.800000</td>\n",
              "      <td>91.100000</td>\n",
              "      <td>4.100000</td>\n",
              "      <td>0.400000</td>\n",
              "    </tr>\n",
              "    <tr>\n",
              "      <th>75%</th>\n",
              "      <td>50.000000</td>\n",
              "      <td>5.000000</td>\n",
              "      <td>5.400000</td>\n",
              "      <td>9.580000e-06</td>\n",
              "      <td>1.410000</td>\n",
              "      <td>1.000000</td>\n",
              "      <td>1.600000</td>\n",
              "      <td>0.200000</td>\n",
              "      <td>5.000000</td>\n",
              "      <td>28.200000</td>\n",
              "      <td>62.200000</td>\n",
              "      <td>13.300000</td>\n",
              "      <td>95.600000</td>\n",
              "      <td>7.000000</td>\n",
              "      <td>0.400000</td>\n",
              "    </tr>\n",
              "    <tr>\n",
              "      <th>max</th>\n",
              "      <td>420.000000</td>\n",
              "      <td>10.000000</td>\n",
              "      <td>76.200000</td>\n",
              "      <td>3.340000e-04</td>\n",
              "      <td>1.710000</td>\n",
              "      <td>12.800000</td>\n",
              "      <td>35.200000</td>\n",
              "      <td>29.700000</td>\n",
              "      <td>108.000000</td>\n",
              "      <td>77.700000</td>\n",
              "      <td>98.100000</td>\n",
              "      <td>90.100000</td>\n",
              "      <td>3050.000000</td>\n",
              "      <td>94.500000</td>\n",
              "      <td>5.700000</td>\n",
              "    </tr>\n",
              "  </tbody>\n",
              "</table>\n",
              "</div>"
            ],
            "text/plain": [
              "           Depth_cm  Sample_Height_cm  Sample_diameter_cm          Ksat  \\\n",
              "count  27483.000000      27483.000000        27483.000000  2.748300e+04   \n",
              "mean      50.351381          5.005531            5.685920  9.742220e-06   \n",
              "std        8.129272          0.196687            3.574158  4.857517e-06   \n",
              "min        0.000000          4.000000            0.000000  7.430000e-09   \n",
              "25%       50.000000          5.000000            5.400000  9.580000e-06   \n",
              "50%       50.000000          5.000000            5.400000  9.580000e-06   \n",
              "75%       50.000000          5.000000            5.400000  9.580000e-06   \n",
              "max      420.000000         10.000000           76.200000  3.340000e-04   \n",
              "\n",
              "       Bulk_density   Very_coarse        Coarse        Medium          Fine  \\\n",
              "count  27483.000000  27483.000000  27483.000000  27483.000000  27483.000000   \n",
              "mean       1.410009      0.762779      1.521619      0.413529      3.912468   \n",
              "std        0.007186      0.490705      0.365836      1.311926      4.875534   \n",
              "min        0.950000      0.000000     -0.234150      0.000000      0.000000   \n",
              "25%        1.410000      1.000000      1.480000      0.000000      0.900000   \n",
              "50%        1.410000      1.000000      1.540000      0.100000      2.300000   \n",
              "75%        1.410000      1.000000      1.600000      0.200000      5.000000   \n",
              "max        1.710000     12.800000     35.200000     29.700000    108.000000   \n",
              "\n",
              "          Very_fine  Sand_percent  Silt_percent  Clay_percent  \\\n",
              "count  27483.000000  27483.000000  27483.000000  27483.000000   \n",
              "mean      20.478642     48.294189     10.015154     83.231829   \n",
              "std       15.819190     20.169785      8.661838     26.435620   \n",
              "min        0.000000      0.000000      0.000000      0.000000   \n",
              "25%        8.800000     34.200000      4.100000     77.400000   \n",
              "50%       16.900000     47.500000      7.800000     91.100000   \n",
              "75%       28.200000     62.200000     13.300000     95.600000   \n",
              "max       77.700000     98.100000     90.100000   3050.000000   \n",
              "\n",
              "       Coarse_fragments_percent  Organic_matter  \n",
              "count              27483.000000    27483.000000  \n",
              "mean                   6.841002        0.404529  \n",
              "std                   10.015666        0.129403  \n",
              "min                   -3.745905        0.000000  \n",
              "25%                    2.200000        0.400000  \n",
              "50%                    4.100000        0.400000  \n",
              "75%                    7.000000        0.400000  \n",
              "max                   94.500000        5.700000  "
            ]
          },
          "execution_count": 98,
          "metadata": {},
          "output_type": "execute_result"
        }
      ],
      "source": [
        "print(\"Shape of data:\", data.shape)\n",
        "print(\"\\nDetailed statistics:\")\n",
        "data.describe()"
      ]
    },
    {
      "cell_type": "code",
      "execution_count": 102,
      "metadata": {},
      "outputs": [
        {
          "name": "stdout",
          "output_type": "stream",
          "text": [
            "Correlations with Ksat:\n",
            "Ksat                        1.000000\n",
            "Sample_Height_cm            0.593978\n",
            "Sample_diameter_cm          0.068433\n",
            "Bulk_density                0.042101\n",
            "Very_coarse                 0.027996\n",
            "Clay_percent                0.005642\n",
            "Silt_percent                0.002613\n",
            "Coarse                     -0.004269\n",
            "Sand_percent               -0.004940\n",
            "Medium                     -0.006752\n",
            "Coarse_fragments_percent   -0.009140\n",
            "Very_fine                  -0.009304\n",
            "Fine                       -0.010997\n",
            "Organic_matter             -0.012040\n",
            "Depth_cm                   -0.136460\n",
            "Name: Ksat, dtype: float64\n",
            "\n",
            "\n",
            "Random Forest Feature Importance:\n",
            "                     feature    importance\n",
            "1           Sample_Height_cm  7.324491e-01\n",
            "0                   Depth_cm  1.272341e-01\n",
            "3               Bulk_density  3.769470e-02\n",
            "2         Sample_diameter_cm  3.523943e-02\n",
            "4                Very_coarse  1.373276e-02\n",
            "8                  Very_fine  1.077190e-02\n",
            "10              Silt_percent  9.216246e-03\n",
            "11              Clay_percent  7.926688e-03\n",
            "5                     Coarse  6.907854e-03\n",
            "7                       Fine  6.147522e-03\n",
            "9               Sand_percent  5.991710e-03\n",
            "13            Organic_matter  3.547772e-03\n",
            "6                     Medium  3.140142e-03\n",
            "12  Coarse_fragments_percent  4.214528e-08\n",
            "\n",
            "\n"
          ]
        },
        {
          "data": {
            "image/png": "[encoded data removed]",
            "text/plain": [
              "<Figure size 720x432 with 1 Axes>"
            ]
          },
          "metadata": {
            "needs_background": "light"
          },
          "output_type": "display_data"
        },
        {
          "name": "stdout",
          "output_type": "stream",
          "text": [
            "Selected features based on importance threshold:\n",
            "['Sample_Height_cm', 'Depth_cm', 'Ksat']\n",
            "           Depth_cm  Sample_Height_cm  Sample_diameter_cm          Ksat  \\\n",
            "count  27483.000000      27483.000000        27483.000000  2.748300e+04   \n",
            "mean      50.351381          5.005531            5.685920  9.742220e-06   \n",
            "std        8.129272          0.196687            3.574158  4.857517e-06   \n",
            "min        0.000000          4.000000            0.000000  7.430000e-09   \n",
            "25%       50.000000          5.000000            5.400000  9.580000e-06   \n",
            "50%       50.000000          5.000000            5.400000  9.580000e-06   \n",
            "75%       50.000000          5.000000            5.400000  9.580000e-06   \n",
            "max      420.000000         10.000000           76.200000  3.340000e-04   \n",
            "\n",
            "       Bulk_density   Very_coarse        Coarse        Medium          Fine  \\\n",
            "count  27483.000000  27483.000000  27483.000000  27483.000000  27483.000000   \n",
            "mean       1.410009      0.762779      1.521619      0.413529      3.912468   \n",
            "std        0.007186      0.490705      0.365836      1.311926      4.875534   \n",
            "min        0.950000      0.000000     -0.234150      0.000000      0.000000   \n",
            "25%        1.410000      1.000000      1.480000      0.000000      0.900000   \n",
            "50%        1.410000      1.000000      1.540000      0.100000      2.300000   \n",
            "75%        1.410000      1.000000      1.600000      0.200000      5.000000   \n",
            "max        1.710000     12.800000     35.200000     29.700000    108.000000   \n",
            "\n",
            "          Very_fine  Sand_percent  Silt_percent  Clay_percent  \\\n",
            "count  27483.000000  27483.000000  27483.000000  27483.000000   \n",
            "mean      20.478642     48.294189     10.015154     83.231829   \n",
            "std       15.819190     20.169785      8.661838     26.435620   \n",
            "min        0.000000      0.000000      0.000000      0.000000   \n",
            "25%        8.800000     34.200000      4.100000     77.400000   \n",
            "50%       16.900000     47.500000      7.800000     91.100000   \n",
            "75%       28.200000     62.200000     13.300000     95.600000   \n",
            "max       77.700000     98.100000     90.100000   3050.000000   \n",
            "\n",
            "       Coarse_fragments_percent  Organic_matter  \n",
            "count              27483.000000    27483.000000  \n",
            "mean                   6.841002        0.404529  \n",
            "std                   10.015666        0.129403  \n",
            "min                   -3.745905        0.000000  \n",
            "25%                    2.200000        0.400000  \n",
            "50%                    4.100000        0.400000  \n",
            "75%                    7.000000        0.400000  \n",
            "max                   94.500000        5.700000  \n"
          ]
        }
      ],
      "source": [
        "# Feature selection using different techniques\n",
        "\n",
        "# 1. Correlation with target variable (Ksat)\n",
        "correlations = data[numeric_columns].corr()['Ksat'].sort_values(ascending=False)\n",
        "print(\"Correlations with Ksat:\")\n",
        "print(correlations)\n",
        "print(\"\\n\")\n",
        "\n",
        "# 2. Feature importance using Random Forest\n",
        "from sklearn.ensemble import RandomForestRegressor\n",
        "from sklearn.preprocessing import LabelEncoder\n",
        "\n",
        "# Prepare data for Random Forest\n",
        "X = data[numeric_columns].drop('Ksat', axis=1)\n",
        "y = data['Ksat']\n",
        "\n",
        "# Initialize and fit Random Forest\n",
        "rf = RandomForestRegressor(n_estimators=100, random_state=42)\n",
        "rf.fit(X, y)\n",
        "\n",
        "# Get feature importance scores\n",
        "feature_importance = pd.DataFrame({\n",
        "    'feature': X.columns,\n",
        "    'importance': rf.feature_importances_\n",
        "})\n",
        "feature_importance = feature_importance.sort_values('importance', ascending=False)\n",
        "\n",
        "print(\"Random Forest Feature Importance:\")\n",
        "print(feature_importance)\n",
        "print(\"\\n\")\n",
        "\n",
        "# Visualize feature importance\n",
        "plt.figure(figsize=(10, 6))\n",
        "sns.barplot(x='importance', y='feature', data=feature_importance)\n",
        "plt.title('Feature Importance from Random Forest')\n",
        "plt.show()\n",
        "\n",
        "# Select top features based on importance threshold\n",
        "importance_threshold = 0.05  # Adjust this threshold as needed\n",
        "selected_features = feature_importance[feature_importance['importance'] > importance_threshold]['feature'].tolist()\n",
        "selected_features.append('Ksat')  # Add target variable back\n",
        "\n",
        "print(\"Selected features based on importance threshold:\")\n",
        "print(selected_features)\n",
        "\n",
        "# Create dataset with selected features\n",
        "data_selected = data[selected_features]\n",
        "\n",
        "# Summary statistics for numerical features\n",
        "print(data.describe())\n",
        "\n"
      ]
    },
    {
      "cell_type": "code",
      "execution_count": 104,
      "metadata": {
        "id": "LRBZYNPZBVda"
      },
      "outputs": [
        {
          "name": "stdout",
          "output_type": "stream",
          "text": [
            "Feature Importance (Mutual Info):\n",
            "                     Feature     Score\n",
            "1           Sample_Height_cm  0.032339\n",
            "13            Organic_matter  0.012356\n",
            "0                   Depth_cm  0.011897\n",
            "12  Coarse_fragments_percent  0.009464\n",
            "3               Bulk_density  0.008671\n",
            "2         Sample_diameter_cm  0.007957\n",
            "10              Silt_percent  0.007125\n",
            "11              Clay_percent  0.005692\n",
            "4                Very_coarse  0.004266\n",
            "9               Sand_percent  0.002157\n",
            "5                     Coarse  0.000000\n",
            "6                     Medium  0.000000\n",
            "7                       Fine  0.000000\n",
            "8                  Very_fine  0.000000\n"
          ]
        }
      ],
      "source": [
        "# Import required libraries\n",
        "from sklearn.feature_selection import SelectKBest, mutual_info_regression\n",
        "from sklearn.impute import SimpleImputer\n",
        "\n",
        "try:\n",
        "    # Define features and target variables\n",
        "    features = data[numeric_columns].drop('Ksat', axis=1)\n",
        "    target = data['Ksat']\n",
        "\n",
        "    # Drop columns with too many missing values or non-numeric types\n",
        "    valid_numeric_cols = features.columns[features.notna().sum() > 0]\n",
        "    features_clean = features[valid_numeric_cols]\n",
        "\n",
        "    # Re-impute missing values\n",
        "    features_imputed = pd.DataFrame(\n",
        "        SimpleImputer(strategy='median').fit_transform(features_clean),\n",
        "        columns=features_clean.columns\n",
        "    )\n",
        "\n",
        "    # Run SelectKBest with mutual_info_regression\n",
        "    selector = SelectKBest(score_func=mutual_info_regression, k='all')\n",
        "    selector.fit(features_imputed, target)\n",
        "\n",
        "    # Create DataFrame of feature scores\n",
        "    feature_scores = pd.DataFrame({\n",
        "        'Feature': features_imputed.columns,\n",
        "        'Score': selector.scores_\n",
        "    }).sort_values(by='Score', ascending=False)\n",
        "\n",
        "    # Display top features\n",
        "    print(\"Feature Importance (Mutual Info):\")\n",
        "    print(feature_scores)\n",
        "\n",
        "    feature_scores.head(10)\n",
        "\n",
        "except NameError as e:\n",
        "    print(f\"NameError: {str(e)}\")\n",
        "    print(\"Please ensure 'data' and 'numeric_columns' are defined before running this cell\")\n",
        "except Exception as e:\n",
        "    print(f\"An error occurred: {str(e)}\")\n"
      ]
    },
    {
      "cell_type": "code",
      "execution_count": 109,
      "metadata": {},
      "outputs": [
        {
          "name": "stdout",
          "output_type": "stream",
          "text": [
            "An error occurred: \"None of [Index(['Sample Height (cm)', 'Sample diameter (cm)', 'Bulk density',\\n       'Depth (cm)', 'Silt (%)', 'Clay (%)'],\\n      dtype='object')] are in the [columns]\"\n"
          ]
        }
      ],
      "source": [
        "try:\n",
        "    # Convert selected columns to numeric\n",
        "    cols_to_numeric = [\n",
        "        'Sample Height (cm)', 'Sample diameter (cm)', 'Bulk density', 'Depth (cm)',\n",
        "        'Silt (%)', 'Clay (%)'\n",
        "    ]\n",
        "\n",
        "    # Copy and convert from data DataFrame\n",
        "    engineered_df = data[cols_to_numeric].copy()\n",
        "    for col in cols_to_numeric:\n",
        "        engineered_df[col] = pd.to_numeric(engineered_df[col], errors='coerce')\n",
        "\n",
        "    # Drop NaNs after conversion\n",
        "    engineered_df.dropna(inplace=True)\n",
        "\n",
        "    # Create ratio features\n",
        "    engineered_df['Height_to_Diameter'] = engineered_df['Sample Height (cm)'] / engineered_df['Sample diameter (cm)']\n",
        "    engineered_df['Silt_to_Clay'] = engineered_df['Silt (%)'] / engineered_df['Clay (%)']\n",
        "\n",
        "    # Create interaction features\n",
        "    engineered_df['BulkDepth_Product'] = engineered_df['Bulk density'] * engineered_df['Depth (cm)']\n",
        "    engineered_df['Fine_Content'] = engineered_df['Silt (%)'] + engineered_df['Clay (%)']\n",
        "\n",
        "    # Add log transforms for skewed variables\n",
        "    engineered_df['Log_Bulk_Density'] = np.log1p(engineered_df['Bulk density'])\n",
        "    engineered_df['Log_Depth'] = np.log1p(engineered_df['Depth (cm)'])\n",
        "\n",
        "    # Preview the engineered features\n",
        "    print(\"\\nOriginal and Engineered Features:\")\n",
        "    print(engineered_df[[\n",
        "        'Sample Height (cm)', 'Sample diameter (cm)', 'Height_to_Diameter',\n",
        "        'Silt (%)', 'Clay (%)', 'Silt_to_Clay', \n",
        "        'BulkDepth_Product', 'Fine_Content',\n",
        "        'Log_Bulk_Density', 'Log_Depth'\n",
        "    ]].head())\n",
        "\n",
        "except NameError as e:\n",
        "    print(f\"NameError: {str(e)}\")\n",
        "    print(\"Please ensure 'data' DataFrame is defined before running this cell\")\n",
        "except Exception as e:\n",
        "    print(f\"An error occurred: {str(e)}\")\n"
      ]
    },
    {
      "cell_type": "markdown",
      "metadata": {
        "id": "Dl70mpyY1B9d"
      },
      "source": [
        "#Baseline model (Before preprocessing)"
      ]
    },
    {
      "cell_type": "markdown",
      "metadata": {
        "id": "_pF-gcrj05hp"
      },
      "source": [
        "Now lets create a baseline model (Linear regression before data preprocessing)"
      ]
    },
    {
      "cell_type": "code",
      "execution_count": 66,
      "metadata": {
        "id": "AqUZ_48e1sS3"
      },
      "outputs": [],
      "source": []
    }
  ],
  "metadata": {
    "colab": {
      "provenance": []
    },
    "kernelspec": {
      "display_name": "Python 3",
      "name": "python3"
    },
    "language_info": {
      "codemirror_mode": {
        "name": "ipython",
        "version": 3
      },
      "file_extension": ".py",
      "mimetype": "text/x-python",
      "name": "python",
      "nbconvert_exporter": "python",
      "pygments_lexer": "ipython3",
      "version": "3.10.12"
    }
  },
  "nbformat": 4,
  "nbformat_minor": 0
}
