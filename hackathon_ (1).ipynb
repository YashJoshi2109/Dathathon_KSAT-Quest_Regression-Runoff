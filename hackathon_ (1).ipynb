{
  "cells": [
    {
      "cell_type": "markdown",
      "metadata": {
        "id": "vt7eCvqsk3Tq"
      },
      "source": [
        "Our target variable is ksat which stands for Saturated Hydraulic Conductivity"
      ]
    },
    {
      "cell_type": "markdown",
      "metadata": {
        "id": "_dQahifjii-A"
      },
      "source": [
        "**Data Loading and Understanding**"
      ]
    },
    {
      "cell_type": "code",
      "execution_count": 87,
      "metadata": {
        "id": "FIVk5za3hpt2"
      },
      "outputs": [],
      "source": [
        "import pandas as pd\n",
        "import numpy as np\n",
        "import matplotlib.pyplot as plt\n",
        "import seaborn as sns\n",
        "import warnings\n",
        "warnings.filterwarnings('ignore')"
      ]
    },
    {
      "cell_type": "code",
      "execution_count": 88,
      "metadata": {
        "id": "IoX_UhOfh2a1"
      },
      "outputs": [],
      "source": [
        "data= pd.read_excel('data.xlsx')"
      ]
    },
    {
      "cell_type": "code",
      "execution_count": 89,
      "metadata": {
        "colab": {
          "base_uri": "https://localhost:8080/",
          "height": 394
        },
        "id": "zOPwWX-WiVO-",
        "outputId": "e8e1b861-1029-42d3-d8d0-14e5481d1391"
      },
      "outputs": [
        {
          "data": {
            "text/html": [
              "<div>\n",
              "<style scoped>\n",
              "    .dataframe tbody tr th:only-of-type {\n",
              "        vertical-align: middle;\n",
              "    }\n",
              "\n",
              "    .dataframe tbody tr th {\n",
              "        vertical-align: top;\n",
              "    }\n",
              "\n",
              "    .dataframe thead th {\n",
              "        text-align: right;\n",
              "    }\n",
              "</style>\n",
              "<table border=\"1\" class=\"dataframe\">\n",
              "  <thead>\n",
              "    <tr style=\"text-align: right;\">\n",
              "      <th></th>\n",
              "      <th>Source reference</th>\n",
              "      <th>Soil name</th>\n",
              "      <th>Site label</th>\n",
              "      <th>Depth (cm)</th>\n",
              "      <th>Field/lab</th>\n",
              "      <th>Sample Height (cm)</th>\n",
              "      <th>Sample diameter (cm)</th>\n",
              "      <th>Method</th>\n",
              "      <th>Ksat</th>\n",
              "      <th>Units</th>\n",
              "      <th>...</th>\n",
              "      <th>Stdev_Sand (%)</th>\n",
              "      <th>Stdev_Silt  (%)</th>\n",
              "      <th>Stdev_Clay (%)</th>\n",
              "      <th>Stdev_Coarse_fragments (%)</th>\n",
              "      <th>Textural class.1</th>\n",
              "      <th>Stdev_Organic carbon</th>\n",
              "      <th>Other potentally relevant info</th>\n",
              "      <th>Unnamed: 32</th>\n",
              "      <th>Unnamed: 33</th>\n",
              "      <th>Unnamed: 34</th>\n",
              "    </tr>\n",
              "  </thead>\n",
              "  <tbody>\n",
              "    <tr>\n",
              "      <th>0</th>\n",
              "      <td>1</td>\n",
              "      <td>Groseclose</td>\n",
              "      <td>I/1</td>\n",
              "      <td>0</td>\n",
              "      <td>Lab</td>\n",
              "      <td>4</td>\n",
              "      <td>5.4</td>\n",
              "      <td>Falling head</td>\n",
              "      <td>0.000008</td>\n",
              "      <td>NaN</td>\n",
              "      <td>...</td>\n",
              "      <td>NaN</td>\n",
              "      <td>NaN</td>\n",
              "      <td>NaN</td>\n",
              "      <td>NaN</td>\n",
              "      <td>NaN</td>\n",
              "      <td>NaN</td>\n",
              "      <td>NaN</td>\n",
              "      <td>NaN</td>\n",
              "      <td>NaN</td>\n",
              "      <td>NaN</td>\n",
              "    </tr>\n",
              "    <tr>\n",
              "      <th>1</th>\n",
              "      <td>1</td>\n",
              "      <td>Groseclose</td>\n",
              "      <td>I/1</td>\n",
              "      <td>50</td>\n",
              "      <td>Lab</td>\n",
              "      <td>4</td>\n",
              "      <td>5.4</td>\n",
              "      <td>Falling head</td>\n",
              "      <td>0.000004</td>\n",
              "      <td>NaN</td>\n",
              "      <td>...</td>\n",
              "      <td>NaN</td>\n",
              "      <td>NaN</td>\n",
              "      <td>NaN</td>\n",
              "      <td>NaN</td>\n",
              "      <td>NaN</td>\n",
              "      <td>NaN</td>\n",
              "      <td>NaN</td>\n",
              "      <td>NaN</td>\n",
              "      <td>NaN</td>\n",
              "      <td>NaN</td>\n",
              "    </tr>\n",
              "    <tr>\n",
              "      <th>2</th>\n",
              "      <td>1</td>\n",
              "      <td>Groseclose</td>\n",
              "      <td>I/2</td>\n",
              "      <td>0</td>\n",
              "      <td>Lab</td>\n",
              "      <td>4</td>\n",
              "      <td>5.4</td>\n",
              "      <td>Falling head</td>\n",
              "      <td>0.000004</td>\n",
              "      <td>NaN</td>\n",
              "      <td>...</td>\n",
              "      <td>NaN</td>\n",
              "      <td>NaN</td>\n",
              "      <td>NaN</td>\n",
              "      <td>NaN</td>\n",
              "      <td>NaN</td>\n",
              "      <td>NaN</td>\n",
              "      <td>NaN</td>\n",
              "      <td>NaN</td>\n",
              "      <td>NaN</td>\n",
              "      <td>NaN</td>\n",
              "    </tr>\n",
              "    <tr>\n",
              "      <th>3</th>\n",
              "      <td>1</td>\n",
              "      <td>Groseclose</td>\n",
              "      <td>I/2</td>\n",
              "      <td>50</td>\n",
              "      <td>Lab</td>\n",
              "      <td>4</td>\n",
              "      <td>5.4</td>\n",
              "      <td>Falling head</td>\n",
              "      <td>0.0</td>\n",
              "      <td>NaN</td>\n",
              "      <td>...</td>\n",
              "      <td>NaN</td>\n",
              "      <td>NaN</td>\n",
              "      <td>NaN</td>\n",
              "      <td>NaN</td>\n",
              "      <td>NaN</td>\n",
              "      <td>NaN</td>\n",
              "      <td>NaN</td>\n",
              "      <td>NaN</td>\n",
              "      <td>NaN</td>\n",
              "      <td>NaN</td>\n",
              "    </tr>\n",
              "    <tr>\n",
              "      <th>4</th>\n",
              "      <td>1</td>\n",
              "      <td>Groseclose</td>\n",
              "      <td>I/3</td>\n",
              "      <td>0</td>\n",
              "      <td>Lab</td>\n",
              "      <td>4</td>\n",
              "      <td>5.4</td>\n",
              "      <td>Falling head</td>\n",
              "      <td>0.000001</td>\n",
              "      <td>NaN</td>\n",
              "      <td>...</td>\n",
              "      <td>NaN</td>\n",
              "      <td>NaN</td>\n",
              "      <td>NaN</td>\n",
              "      <td>NaN</td>\n",
              "      <td>NaN</td>\n",
              "      <td>NaN</td>\n",
              "      <td>NaN</td>\n",
              "      <td>NaN</td>\n",
              "      <td>NaN</td>\n",
              "      <td>NaN</td>\n",
              "    </tr>\n",
              "  </tbody>\n",
              "</table>\n",
              "<p>5 rows × 35 columns</p>\n",
              "</div>"
            ],
            "text/plain": [
              "  Source reference   Soil name Site label Depth (cm) Field/lab  \\\n",
              "0                1  Groseclose        I/1          0       Lab   \n",
              "1                1  Groseclose        I/1         50       Lab   \n",
              "2                1  Groseclose        I/2          0       Lab   \n",
              "3                1  Groseclose        I/2         50       Lab   \n",
              "4                1  Groseclose        I/3          0       Lab   \n",
              "\n",
              "  Sample Height (cm) Sample diameter (cm)        Method      Ksat Units  ...  \\\n",
              "0                  4                  5.4  Falling head  0.000008   NaN  ...   \n",
              "1                  4                  5.4  Falling head  0.000004   NaN  ...   \n",
              "2                  4                  5.4  Falling head  0.000004   NaN  ...   \n",
              "3                  4                  5.4  Falling head       0.0   NaN  ...   \n",
              "4                  4                  5.4  Falling head  0.000001   NaN  ...   \n",
              "\n",
              "  Stdev_Sand (%) Stdev_Silt  (%) Stdev_Clay (%) Stdev_Coarse_fragments (%)  \\\n",
              "0            NaN             NaN            NaN                        NaN   \n",
              "1            NaN             NaN            NaN                        NaN   \n",
              "2            NaN             NaN            NaN                        NaN   \n",
              "3            NaN             NaN            NaN                        NaN   \n",
              "4            NaN             NaN            NaN                        NaN   \n",
              "\n",
              "  Textural class.1 Stdev_Organic carbon Other potentally relevant info  \\\n",
              "0              NaN                  NaN                            NaN   \n",
              "1              NaN                  NaN                            NaN   \n",
              "2              NaN                  NaN                            NaN   \n",
              "3              NaN                  NaN                            NaN   \n",
              "4              NaN                  NaN                            NaN   \n",
              "\n",
              "  Unnamed: 32 Unnamed: 33 Unnamed: 34  \n",
              "0         NaN         NaN         NaN  \n",
              "1         NaN         NaN         NaN  \n",
              "2         NaN         NaN         NaN  \n",
              "3         NaN         NaN         NaN  \n",
              "4         NaN         NaN         NaN  \n",
              "\n",
              "[5 rows x 35 columns]"
            ]
          },
          "execution_count": 89,
          "metadata": {},
          "output_type": "execute_result"
        }
      ],
      "source": [
        "data.head()"
      ]
    },
    {
      "cell_type": "markdown",
      "metadata": {
        "id": "j60-63BJielS"
      },
      "source": [
        "We can see that there are many missing values. Also there are unnamed columns which are emplty. We can handle them later."
      ]
    },
    {
      "cell_type": "code",
      "execution_count": 90,
      "metadata": {
        "colab": {
          "base_uri": "https://localhost:8080/"
        },
        "id": "1gAW4kxJicJq",
        "outputId": "54d61ca2-99bb-496e-c043-8cc8abdd81b5"
      },
      "outputs": [
        {
          "name": "stdout",
          "output_type": "stream",
          "text": [
            "<class 'pandas.core.frame.DataFrame'>\n",
            "RangeIndex: 27483 entries, 0 to 27482\n",
            "Data columns (total 35 columns):\n",
            " #   Column                          Non-Null Count  Dtype \n",
            "---  ------                          --------------  ----- \n",
            " 0   Source reference                27450 non-null  object\n",
            " 1   Soil name                       2435 non-null   object\n",
            " 2   Site label                      27375 non-null  object\n",
            " 3   Depth (cm)                      27449 non-null  object\n",
            " 4   Field/lab                       27084 non-null  object\n",
            " 5   Sample Height (cm)              27444 non-null  object\n",
            " 6   Sample diameter (cm)            27440 non-null  object\n",
            " 7   Method                          27448 non-null  object\n",
            " 8   Ksat                            27449 non-null  object\n",
            " 9   Units                           20530 non-null  object\n",
            " 10  Bulk density                    27097 non-null  object\n",
            " 11  Very coarse                     27052 non-null  object\n",
            " 12  Coarse                          20773 non-null  object\n",
            " 13  Medium                          24332 non-null  object\n",
            " 14  Fine                            24406 non-null  object\n",
            " 15  Very fine                       24406 non-null  object\n",
            " 16  Sand (%)                        24406 non-null  object\n",
            " 17  Silt  (%)                       24448 non-null  object\n",
            " 18  Clay (%)                        25204 non-null  object\n",
            " 19  Coarse fragments (%)            25132 non-null  object\n",
            " 20  Textural class                  25088 non-null  object\n",
            " 21  Organic carbon                  67 non-null     object\n",
            " 22  Organic matter                  24962 non-null  object\n",
            " 23  Units.1                         24387 non-null  object\n",
            " 24  Stdev_Bulk density              55 non-null     object\n",
            " 25  Stdev_Sand (%)                  63 non-null     object\n",
            " 26  Stdev_Silt  (%)                 127 non-null    object\n",
            " 27  Stdev_Clay (%)                  182 non-null    object\n",
            " 28  Stdev_Coarse_fragments (%)      47 non-null     object\n",
            " 29  Textural class.1                41 non-null     object\n",
            " 30  Stdev_Organic carbon            41 non-null     object\n",
            " 31  Other potentally relevant info  33 non-null     object\n",
            " 32  Unnamed: 32                     33 non-null     object\n",
            " 33  Unnamed: 33                     32 non-null     object\n",
            " 34  Unnamed: 34                     156 non-null    object\n",
            "dtypes: object(35)\n",
            "memory usage: 7.3+ MB\n"
          ]
        }
      ],
      "source": [
        "data.info()"
      ]
    },
    {
      "cell_type": "markdown",
      "metadata": {
        "id": "Q4Uioq42j1Ad"
      },
      "source": [
        "We can see that many features here have wrong data type. For eg, sample height, sample diameter etc.We will handle them in data cleaning steps."
      ]
    },
    {
      "cell_type": "code",
      "execution_count": 91,
      "metadata": {
        "colab": {
          "base_uri": "https://localhost:8080/",
          "height": 345
        },
        "id": "QB_-v-7Ti11V",
        "outputId": "f37e34e3-c948-481f-91e7-253c95345bc9"
      },
      "outputs": [
        {
          "data": {
            "text/html": [
              "<div>\n",
              "<style scoped>\n",
              "    .dataframe tbody tr th:only-of-type {\n",
              "        vertical-align: middle;\n",
              "    }\n",
              "\n",
              "    .dataframe tbody tr th {\n",
              "        vertical-align: top;\n",
              "    }\n",
              "\n",
              "    .dataframe thead th {\n",
              "        text-align: right;\n",
              "    }\n",
              "</style>\n",
              "<table border=\"1\" class=\"dataframe\">\n",
              "  <thead>\n",
              "    <tr style=\"text-align: right;\">\n",
              "      <th></th>\n",
              "      <th>Source reference</th>\n",
              "      <th>Soil name</th>\n",
              "      <th>Site label</th>\n",
              "      <th>Depth (cm)</th>\n",
              "      <th>Field/lab</th>\n",
              "      <th>Sample Height (cm)</th>\n",
              "      <th>Sample diameter (cm)</th>\n",
              "      <th>Method</th>\n",
              "      <th>Ksat</th>\n",
              "      <th>Units</th>\n",
              "      <th>...</th>\n",
              "      <th>Stdev_Sand (%)</th>\n",
              "      <th>Stdev_Silt  (%)</th>\n",
              "      <th>Stdev_Clay (%)</th>\n",
              "      <th>Stdev_Coarse_fragments (%)</th>\n",
              "      <th>Textural class.1</th>\n",
              "      <th>Stdev_Organic carbon</th>\n",
              "      <th>Other potentally relevant info</th>\n",
              "      <th>Unnamed: 32</th>\n",
              "      <th>Unnamed: 33</th>\n",
              "      <th>Unnamed: 34</th>\n",
              "    </tr>\n",
              "  </thead>\n",
              "  <tbody>\n",
              "    <tr>\n",
              "      <th>count</th>\n",
              "      <td>27450</td>\n",
              "      <td>2435</td>\n",
              "      <td>27375</td>\n",
              "      <td>27449</td>\n",
              "      <td>27084</td>\n",
              "      <td>27444</td>\n",
              "      <td>27440.0</td>\n",
              "      <td>27448</td>\n",
              "      <td>27449</td>\n",
              "      <td>20530.00</td>\n",
              "      <td>...</td>\n",
              "      <td>63</td>\n",
              "      <td>127</td>\n",
              "      <td>182</td>\n",
              "      <td>47</td>\n",
              "      <td>41</td>\n",
              "      <td>41</td>\n",
              "      <td>33</td>\n",
              "      <td>33</td>\n",
              "      <td>32</td>\n",
              "      <td>156</td>\n",
              "    </tr>\n",
              "    <tr>\n",
              "      <th>unique</th>\n",
              "      <td>40</td>\n",
              "      <td>327</td>\n",
              "      <td>347</td>\n",
              "      <td>3516</td>\n",
              "      <td>681</td>\n",
              "      <td>8</td>\n",
              "      <td>23.0</td>\n",
              "      <td>21</td>\n",
              "      <td>165</td>\n",
              "      <td>2737.00</td>\n",
              "      <td>...</td>\n",
              "      <td>4</td>\n",
              "      <td>30</td>\n",
              "      <td>87</td>\n",
              "      <td>13</td>\n",
              "      <td>11</td>\n",
              "      <td>11</td>\n",
              "      <td>3</td>\n",
              "      <td>3</td>\n",
              "      <td>2</td>\n",
              "      <td>19</td>\n",
              "    </tr>\n",
              "    <tr>\n",
              "      <th>top</th>\n",
              "      <td>35</td>\n",
              "      <td>Groseclose</td>\n",
              "      <td>Alachua</td>\n",
              "      <td>0cm..15cm</td>\n",
              "      <td>A</td>\n",
              "      <td>lab</td>\n",
              "      <td>5.4</td>\n",
              "      <td>3</td>\n",
              "      <td>Constant Head</td>\n",
              "      <td>0.01</td>\n",
              "      <td>...</td>\n",
              "      <td>Units</td>\n",
              "      <td>Stdev_Bulk density</td>\n",
              "      <td>Stdev_Ksat</td>\n",
              "      <td>Stdev_Sand (%)</td>\n",
              "      <td>Stdev_Silt  (%)</td>\n",
              "      <td>Stdev_Clay (%)</td>\n",
              "      <td>Stdev_Coarse_fragments (%)</td>\n",
              "      <td>Textural class</td>\n",
              "      <td>Stdev_Organic carbon</td>\n",
              "      <td>Ksat = geomean, Ksat Stvd = stdv Ksat log 10, ...</td>\n",
              "    </tr>\n",
              "    <tr>\n",
              "      <th>freq</th>\n",
              "      <td>24816</td>\n",
              "      <td>152</td>\n",
              "      <td>1023</td>\n",
              "      <td>723</td>\n",
              "      <td>1954</td>\n",
              "      <td>26592</td>\n",
              "      <td>26067.0</td>\n",
              "      <td>25991</td>\n",
              "      <td>26303</td>\n",
              "      <td>230.00</td>\n",
              "      <td>...</td>\n",
              "      <td>32</td>\n",
              "      <td>32</td>\n",
              "      <td>30</td>\n",
              "      <td>30</td>\n",
              "      <td>30</td>\n",
              "      <td>30</td>\n",
              "      <td>30</td>\n",
              "      <td>30</td>\n",
              "      <td>30</td>\n",
              "      <td>41</td>\n",
              "    </tr>\n",
              "  </tbody>\n",
              "</table>\n",
              "<p>4 rows × 35 columns</p>\n",
              "</div>"
            ],
            "text/plain": [
              "        Source reference   Soil name Site label Depth (cm) Field/lab  \\\n",
              "count              27450        2435      27375      27449     27084   \n",
              "unique                40         327        347       3516       681   \n",
              "top                   35  Groseclose    Alachua  0cm..15cm         A   \n",
              "freq               24816         152       1023        723      1954   \n",
              "\n",
              "       Sample Height (cm)  Sample diameter (cm)  Method           Ksat  \\\n",
              "count               27444               27440.0   27448          27449   \n",
              "unique                  8                  23.0      21            165   \n",
              "top                   lab                   5.4       3  Constant Head   \n",
              "freq                26592               26067.0   25991          26303   \n",
              "\n",
              "           Units  ... Stdev_Sand (%)     Stdev_Silt  (%)  Stdev_Clay (%)  \\\n",
              "count   20530.00  ...             63                 127             182   \n",
              "unique   2737.00  ...              4                  30              87   \n",
              "top         0.01  ...          Units  Stdev_Bulk density      Stdev_Ksat   \n",
              "freq      230.00  ...             32                  32              30   \n",
              "\n",
              "        Stdev_Coarse_fragments (%)  Textural class.1  Stdev_Organic carbon  \\\n",
              "count                           47                41                    41   \n",
              "unique                          13                11                    11   \n",
              "top                 Stdev_Sand (%)   Stdev_Silt  (%)        Stdev_Clay (%)   \n",
              "freq                            30                30                    30   \n",
              "\n",
              "        Other potentally relevant info     Unnamed: 32           Unnamed: 33  \\\n",
              "count                               33              33                    32   \n",
              "unique                               3               3                     2   \n",
              "top         Stdev_Coarse_fragments (%)  Textural class  Stdev_Organic carbon   \n",
              "freq                                30              30                    30   \n",
              "\n",
              "                                              Unnamed: 34  \n",
              "count                                                 156  \n",
              "unique                                                 19  \n",
              "top     Ksat = geomean, Ksat Stvd = stdv Ksat log 10, ...  \n",
              "freq                                                   41  \n",
              "\n",
              "[4 rows x 35 columns]"
            ]
          },
          "execution_count": 91,
          "metadata": {},
          "output_type": "execute_result"
        }
      ],
      "source": [
        "data.describe()"
      ]
    },
    {
      "cell_type": "markdown",
      "metadata": {
        "id": "4mA5TLNTlvVz"
      },
      "source": [
        "**Remove unnecessary spaces from column names**"
      ]
    },
    {
      "cell_type": "code",
      "execution_count": 92,
      "metadata": {
        "id": "kMPky1XkmHxk"
      },
      "outputs": [],
      "source": [
        "# Strip leading/trailing and inner multiple spaces\n",
        "data.columns = data.columns.str.strip().str.replace(r'\\s+', ' ', regex=True)\n"
      ]
    },
    {
      "cell_type": "code",
      "execution_count": 93,
      "metadata": {
        "id": "of3oKa-JmW7n"
      },
      "outputs": [],
      "source": [
        "# Replace symbols and clean up for consistency\n",
        "data.columns = data.columns.str.replace(' (%)', '_percent', regex=False)\n",
        "data.columns = data.columns.str.replace(' ', '_')  # Replace space with underscore\n",
        "data.columns = data.columns.str.replace('(', '').str.replace(')', '')\n",
        "data.columns = data.columns.str.replace('.', '', regex=False)\n"
      ]
    },
    {
      "cell_type": "code",
      "execution_count": 94,
      "metadata": {
        "colab": {
          "base_uri": "https://localhost:8080/"
        },
        "id": "IGeXfXepmlWh",
        "outputId": "6ca5f1fd-07fc-45fc-9a5b-f34c59ee2ebb"
      },
      "outputs": [
        {
          "name": "stdout",
          "output_type": "stream",
          "text": [
            "['Source_reference', 'Soil_name', 'Site_label', 'Depth_cm', 'Field/lab', 'Sample_Height_cm', 'Sample_diameter_cm', 'Method', 'Ksat', 'Units', 'Bulk_density', 'Very_coarse', 'Coarse', 'Medium', 'Fine', 'Very_fine', 'Sand_percent', 'Silt_percent', 'Clay_percent', 'Coarse_fragments_percent', 'Textural_class', 'Organic_carbon', 'Organic_matter', 'Units1', 'Stdev_Bulk_density', 'Stdev_Sand_percent', 'Stdev_Silt_percent', 'Stdev_Clay_percent', 'Stdev_Coarse_fragments_percent', 'Textural_class1', 'Stdev_Organic_carbon', 'Other_potentally_relevant_info', 'Unnamed:_32', 'Unnamed:_33', 'Unnamed:_34']\n"
          ]
        }
      ],
      "source": [
        "print(data.columns.tolist())\n"
      ]
    },
    {
      "cell_type": "code",
      "execution_count": 95,
      "metadata": {
        "colab": {
          "base_uri": "https://localhost:8080/"
        },
        "id": "1qC4FMDwkKFM",
        "outputId": "b5132716-8dec-4185-e2d5-a0fe98f96569"
      },
      "outputs": [
        {
          "name": "stdout",
          "output_type": "stream",
          "text": [
            "Unnamed:_33                       99.883564\n",
            "Unnamed:_32                       99.879926\n",
            "Other_potentally_relevant_info    99.879926\n",
            "Stdev_Organic_carbon              99.850817\n",
            "Textural_class1                   99.850817\n",
            "Stdev_Coarse_fragments_percent    99.828985\n",
            "Stdev_Bulk_density                99.799876\n",
            "Stdev_Sand_percent                99.770767\n",
            "Organic_carbon                    99.756213\n",
            "Stdev_Silt_percent                99.537896\n",
            "Unnamed:_34                       99.432376\n",
            "Stdev_Clay_percent                99.337772\n",
            "Soil_name                         91.139977\n",
            "Units                             25.299276\n",
            "Coarse                            24.415093\n",
            "Medium                            11.465269\n",
            "Units1                            11.265146\n",
            "Fine                              11.196012\n",
            "Very_fine                         11.196012\n",
            "Sand_percent                      11.196012\n",
            "Silt_percent                      11.043190\n",
            "Organic_matter                     9.172943\n",
            "Textural_class                     8.714478\n",
            "Coarse_fragments_percent           8.554379\n",
            "Clay_percent                       8.292399\n",
            "Very_coarse                        1.568242\n",
            "Field/lab                          1.451807\n",
            "Bulk_density                       1.404505\n",
            "Site_label                         0.392970\n",
            "Sample_diameter_cm                 0.156460\n",
            "Sample_Height_cm                   0.141906\n",
            "Method                             0.127351\n",
            "Ksat                               0.123713\n",
            "Depth_cm                           0.123713\n",
            "Source_reference                   0.120074\n",
            "dtype: float64\n"
          ]
        }
      ],
      "source": [
        "missing_percent = data.isnull().mean() * 100\n",
        "missing_summary = missing_percent[missing_percent > 0].sort_values(ascending=False)\n",
        "\n",
        "# Display the result\n",
        "print(missing_summary)\n"
      ]
    },
    {
      "cell_type": "markdown",
      "metadata": {
        "id": "D9edRFCGkcdL"
      },
      "source": [
        "There are many missing values"
      ]
    },
    {
      "cell_type": "markdown",
      "metadata": {
        "id": "38RXhuAtnRtb"
      },
      "source": [
        "**Removing the unnamed columns**"
      ]
    },
    {
      "cell_type": "code",
      "execution_count": 96,
      "metadata": {
        "id": "-4HUdynflc0w"
      },
      "outputs": [],
      "source": [
        "# Remove columns that start with 'Unnamed'\n",
        "data = data.loc[:, ~data.columns.str.startswith('Unnamed')]\n"
      ]
    },
    {
      "cell_type": "code",
      "execution_count": 97,
      "metadata": {
        "colab": {
          "base_uri": "https://localhost:8080/"
        },
        "id": "wFvXgtZZnhOC",
        "outputId": "b01003b7-55dc-4dd4-a0af-7fe818a0418d"
      },
      "outputs": [
        {
          "name": "stdout",
          "output_type": "stream",
          "text": [
            "<class 'pandas.core.frame.DataFrame'>\n",
            "RangeIndex: 27483 entries, 0 to 27482\n",
            "Data columns (total 32 columns):\n",
            " #   Column                          Non-Null Count  Dtype \n",
            "---  ------                          --------------  ----- \n",
            " 0   Source_reference                27450 non-null  object\n",
            " 1   Soil_name                       2435 non-null   object\n",
            " 2   Site_label                      27375 non-null  object\n",
            " 3   Depth_cm                        27449 non-null  object\n",
            " 4   Field/lab                       27084 non-null  object\n",
            " 5   Sample_Height_cm                27444 non-null  object\n",
            " 6   Sample_diameter_cm              27440 non-null  object\n",
            " 7   Method                          27448 non-null  object\n",
            " 8   Ksat                            27449 non-null  object\n",
            " 9   Units                           20530 non-null  object\n",
            " 10  Bulk_density                    27097 non-null  object\n",
            " 11  Very_coarse                     27052 non-null  object\n",
            " 12  Coarse                          20773 non-null  object\n",
            " 13  Medium                          24332 non-null  object\n",
            " 14  Fine                            24406 non-null  object\n",
            " 15  Very_fine                       24406 non-null  object\n",
            " 16  Sand_percent                    24406 non-null  object\n",
            " 17  Silt_percent                    24448 non-null  object\n",
            " 18  Clay_percent                    25204 non-null  object\n",
            " 19  Coarse_fragments_percent        25132 non-null  object\n",
            " 20  Textural_class                  25088 non-null  object\n",
            " 21  Organic_carbon                  67 non-null     object\n",
            " 22  Organic_matter                  24962 non-null  object\n",
            " 23  Units1                          24387 non-null  object\n",
            " 24  Stdev_Bulk_density              55 non-null     object\n",
            " 25  Stdev_Sand_percent              63 non-null     object\n",
            " 26  Stdev_Silt_percent              127 non-null    object\n",
            " 27  Stdev_Clay_percent              182 non-null    object\n",
            " 28  Stdev_Coarse_fragments_percent  47 non-null     object\n",
            " 29  Textural_class1                 41 non-null     object\n",
            " 30  Stdev_Organic_carbon            41 non-null     object\n",
            " 31  Other_potentally_relevant_info  33 non-null     object\n",
            "dtypes: object(32)\n",
            "memory usage: 6.7+ MB\n"
          ]
        }
      ],
      "source": [
        "data.info()"
      ]
    },
    {
      "cell_type": "markdown",
      "metadata": {
        "id": "nncDajWZoqZs"
      },
      "source": [
        "So here we ahve dropped the unnamed columns and check again and boom! it got removed💁🏼"
      ]
    },
    {
      "cell_type": "markdown",
      "metadata": {
        "id": "zHzuXoCQsRG8"
      },
      "source": [
        "I checked the columns in the dataset which are empty in the and now will check in what percentage are they misisng."
      ]
    },
    {
      "cell_type": "code",
      "execution_count": 98,
      "metadata": {
        "colab": {
          "base_uri": "https://localhost:8080/",
          "height": 491
        },
        "id": "epvxe0GbnijJ",
        "outputId": "6428e7f6-f204-4dac-b357-f3766e74b790"
      },
      "outputs": [
        {
          "data": {
            "text/plain": [
              "Coarse_fragments_percent           8.554379\n",
              "Textural_class                     8.714478\n",
              "Organic_carbon                    99.756213\n",
              "Organic_matter                     9.172943\n",
              "Units                             25.299276\n",
              "Stdev_Bulk_density                99.799876\n",
              "Stdev_Sand_percent                99.770767\n",
              "Stdev_Silt_percent                99.537896\n",
              "Stdev_Clay_percent                99.337772\n",
              "Stdev_Coarse_fragments_percent    99.828985\n",
              "Textural_class1                   99.850817\n",
              "Stdev_Organic_carbon              99.850817\n",
              "Other_potentally_relevant_info    99.879926\n",
              "dtype: float64"
            ]
          },
          "execution_count": 98,
          "metadata": {},
          "output_type": "execute_result"
        }
      ],
      "source": [
        "# List the suspect columns\n",
        "suspect_cols = [\n",
        "    'Coarse_fragments_percent', 'Textural_class', 'Organic_carbon',\n",
        "    'Organic_matter', 'Units', 'Stdev_Bulk_density', 'Stdev_Sand_percent',\n",
        "    'Stdev_Silt_percent', 'Stdev_Clay_percent', 'Stdev_Coarse_fragments_percent',\n",
        "    'Textural_class1', 'Stdev_Organic_carbon', 'Other_potentally_relevant_info'\n",
        "]\n",
        "\n",
        "# Check % missing in these\n",
        "data[suspect_cols].isnull().mean() * 100\n"
      ]
    },
    {
      "cell_type": "markdown",
      "metadata": {
        "id": "ZmD7_WJluD8c"
      },
      "source": [
        "Most of these columns are >99% missing and will bring noise, not value and keeping.👀"
      ]
    },
    {
      "cell_type": "code",
      "execution_count": 99,
      "metadata": {
        "id": "rUEGF50XoZxS"
      },
      "outputs": [],
      "source": [
        "drop_cols = [\n",
        "    'Organic_carbon', 'Stdev_Bulk_density', 'Stdev_Sand_percent', 'Stdev_Silt_percent',\n",
        "    'Stdev_Clay_percent', 'Stdev_Coarse_fragments_percent', 'Textural_class1',\n",
        "    'Stdev_Organic_carbon', 'Other_potentally_relevant_info'\n",
        "]\n",
        "\n",
        "data.drop(columns=drop_cols, inplace=True)\n"
      ]
    },
    {
      "cell_type": "code",
      "execution_count": 100,
      "metadata": {
        "colab": {
          "base_uri": "https://localhost:8080/"
        },
        "id": "5OJvJHVavijJ",
        "outputId": "13281d00-daf8-416a-9359-423db5f4576c"
      },
      "outputs": [
        {
          "name": "stdout",
          "output_type": "stream",
          "text": [
            "<class 'pandas.core.frame.DataFrame'>\n",
            "RangeIndex: 27483 entries, 0 to 27482\n",
            "Data columns (total 23 columns):\n",
            " #   Column                    Non-Null Count  Dtype \n",
            "---  ------                    --------------  ----- \n",
            " 0   Source_reference          27450 non-null  object\n",
            " 1   Soil_name                 2435 non-null   object\n",
            " 2   Site_label                27375 non-null  object\n",
            " 3   Depth_cm                  27449 non-null  object\n",
            " 4   Field/lab                 27084 non-null  object\n",
            " 5   Sample_Height_cm          27444 non-null  object\n",
            " 6   Sample_diameter_cm        27440 non-null  object\n",
            " 7   Method                    27448 non-null  object\n",
            " 8   Ksat                      27449 non-null  object\n",
            " 9   Units                     20530 non-null  object\n",
            " 10  Bulk_density              27097 non-null  object\n",
            " 11  Very_coarse               27052 non-null  object\n",
            " 12  Coarse                    20773 non-null  object\n",
            " 13  Medium                    24332 non-null  object\n",
            " 14  Fine                      24406 non-null  object\n",
            " 15  Very_fine                 24406 non-null  object\n",
            " 16  Sand_percent              24406 non-null  object\n",
            " 17  Silt_percent              24448 non-null  object\n",
            " 18  Clay_percent              25204 non-null  object\n",
            " 19  Coarse_fragments_percent  25132 non-null  object\n",
            " 20  Textural_class            25088 non-null  object\n",
            " 21  Organic_matter            24962 non-null  object\n",
            " 22  Units1                    24387 non-null  object\n",
            "dtypes: object(23)\n",
            "memory usage: 4.8+ MB\n"
          ]
        }
      ],
      "source": [
        "data.info()"
      ]
    },
    {
      "cell_type": "code",
      "execution_count": 101,
      "metadata": {
        "id": "KD971ebJvqxy"
      },
      "outputs": [],
      "source": [
        "numeric_columns = [\n",
        "    'Depth_cm', 'Sample_Height_cm', 'Sample_diameter_cm',\n",
        "    'Ksat', 'Bulk_density', 'Very_coarse', 'Coarse', 'Medium',\n",
        "    'Fine', 'Very_fine', 'Sand_percent', 'Silt_percent',\n",
        "    'Clay_percent', 'Coarse_fragments_percent', 'Organic_matter'\n",
        "]\n"
      ]
    },
    {
      "cell_type": "code",
      "execution_count": 102,
      "metadata": {
        "id": "r7AxZoQSv7X1"
      },
      "outputs": [],
      "source": [
        "for col in numeric_columns:\n",
        "    data[col] = pd.to_numeric(data[col], errors='coerce')\n"
      ]
    },
    {
      "cell_type": "code",
      "execution_count": 103,
      "metadata": {
        "colab": {
          "base_uri": "https://localhost:8080/"
        },
        "id": "xGwwNVoSv-dH",
        "outputId": "ad4c5098-4d24-4e8b-dc70-5a900edaae1a"
      },
      "outputs": [
        {
          "name": "stdout",
          "output_type": "stream",
          "text": [
            "<class 'pandas.core.frame.DataFrame'>\n",
            "RangeIndex: 27483 entries, 0 to 27482\n",
            "Data columns (total 23 columns):\n",
            " #   Column                    Non-Null Count  Dtype  \n",
            "---  ------                    --------------  -----  \n",
            " 0   Source_reference          27450 non-null  object \n",
            " 1   Soil_name                 2435 non-null   object \n",
            " 2   Site_label                27375 non-null  object \n",
            " 3   Depth_cm                  497 non-null    float64\n",
            " 4   Field/lab                 27084 non-null  object \n",
            " 5   Sample_Height_cm          152 non-null    float64\n",
            " 6   Sample_diameter_cm        27407 non-null  float64\n",
            " 7   Method                    27448 non-null  object \n",
            " 8   Ksat                      151 non-null    float64\n",
            " 9   Units                     20530 non-null  object \n",
            " 10  Bulk_density              75 non-null     float64\n",
            " 11  Very_coarse               27019 non-null  float64\n",
            " 12  Coarse                    20669 non-null  float64\n",
            " 13  Medium                    24297 non-null  float64\n",
            " 14  Fine                      24372 non-null  float64\n",
            " 15  Very_fine                 24373 non-null  float64\n",
            " 16  Sand_percent              24373 non-null  float64\n",
            " 17  Silt_percent              24414 non-null  float64\n",
            " 18  Clay_percent              25155 non-null  float64\n",
            " 19  Coarse_fragments_percent  25085 non-null  float64\n",
            " 20  Textural_class            25088 non-null  object \n",
            " 21  Organic_matter            127 non-null    float64\n",
            " 22  Units1                    24387 non-null  object \n",
            "dtypes: float64(15), object(8)\n",
            "memory usage: 4.8+ MB\n"
          ]
        }
      ],
      "source": [
        "data.info()"
      ]
    },
    {
      "cell_type": "markdown",
      "metadata": {
        "id": "L8hq70df0m1R"
      },
      "source": [
        "Now extra columns are removed lets work on these features now.Lets again check for missing values and move on😌"
      ]
    },
    {
      "cell_type": "code",
      "execution_count": 104,
      "metadata": {
        "colab": {
          "base_uri": "https://localhost:8080/",
          "height": 805
        },
        "id": "HFWMY_-M8SY2",
        "outputId": "46dfbad0-0a38-463c-8f20-5fa1abcad728"
      },
      "outputs": [
        {
          "data": {
            "text/plain": [
              "Bulk_density                99.727104\n",
              "Organic_matter              99.537896\n",
              "Ksat                        99.450569\n",
              "Sample_Height_cm            99.446931\n",
              "Depth_cm                    98.191609\n",
              "Soil_name                   91.139977\n",
              "Units                       25.299276\n",
              "Coarse                      24.793509\n",
              "Medium                      11.592621\n",
              "Fine                        11.319725\n",
              "Very_fine                   11.316086\n",
              "Sand_percent                11.316086\n",
              "Units1                      11.265146\n",
              "Silt_percent                11.166903\n",
              "Coarse_fragments_percent     8.725394\n",
              "Textural_class               8.714478\n",
              "Clay_percent                 8.470691\n",
              "Very_coarse                  1.688316\n",
              "Field/lab                    1.451807\n",
              "Site_label                   0.392970\n",
              "Sample_diameter_cm           0.276535\n",
              "Method                       0.127351\n",
              "Source_reference             0.120074\n",
              "dtype: float64"
            ]
          },
          "execution_count": 104,
          "metadata": {},
          "output_type": "execute_result"
        }
      ],
      "source": [
        "# Calculate the percentage of missing values in each column\n",
        "missing_percent = data.isnull().mean() * 100\n",
        "\n",
        "# Filter columns with more than 0% missing values and sort them in descending order\n",
        "missing_summary = missing_percent[missing_percent > 0].sort_values(ascending=False)\n",
        "\n",
        "# Display the summary of missing values\n",
        "missing_summary\n"
      ]
    },
    {
      "cell_type": "code",
      "execution_count": 105,
      "metadata": {},
      "outputs": [
        {
          "name": "stdout",
          "output_type": "stream",
          "text": [
            "Shape of data: (27483, 23)\n"
          ]
        }
      ],
      "source": [
        "print(\"Shape of data:\", data.shape)\n"
      ]
    },
    {
      "cell_type": "code",
      "execution_count": 106,
      "metadata": {
        "id": "5Rb_xfcP_ong"
      },
      "outputs": [],
      "source": [
        "# Fill missing numerical values with median\n",
        "for col in numeric_columns:\n",
        "    if data[col].isnull().any():\n",
        "        median_val = data[col].median()  # Get the median\n",
        "        data[col].fillna(median_val, inplace=True)\n",
        "\n",
        "# Fill missing categorical values with mode\n",
        "categorical_cols = ['Textural_class', 'Units']  # Add other categorical columns\n",
        "for col in categorical_cols:\n",
        "    if data[col].isnull().any():\n",
        "        mode_val = data[col].mode()[0]  # Get the mode\n",
        "        data[col].fillna(mode_val, inplace=True)\n"
      ]
    },
    {
      "cell_type": "code",
      "execution_count": 107,
      "metadata": {
        "colab": {
          "base_uri": "https://localhost:8080/",
          "height": 554
        },
        "id": "fUsv_nyC__Jg",
        "outputId": "989f62d1-bfdc-41d9-b093-eb644fa480dc"
      },
      "outputs": [
        {
          "data": {
            "text/plain": [
              "Depth_cm                    0\n",
              "Sample_Height_cm            0\n",
              "Sample_diameter_cm          0\n",
              "Ksat                        0\n",
              "Bulk_density                0\n",
              "Very_coarse                 0\n",
              "Coarse                      0\n",
              "Medium                      0\n",
              "Fine                        0\n",
              "Very_fine                   0\n",
              "Sand_percent                0\n",
              "Silt_percent                0\n",
              "Clay_percent                0\n",
              "Coarse_fragments_percent    0\n",
              "Organic_matter              0\n",
              "dtype: int64"
            ]
          },
          "execution_count": 107,
          "metadata": {},
          "output_type": "execute_result"
        }
      ],
      "source": [
        "data[numeric_columns].isnull().sum()"
      ]
    },
    {
      "cell_type": "code",
      "execution_count": 108,
      "metadata": {
        "colab": {
          "base_uri": "https://localhost:8080/",
          "height": 147
        },
        "id": "_uzIR0i1BJWl",
        "outputId": "b917125f-38bb-41a1-baa2-4f6f314a2930"
      },
      "outputs": [
        {
          "data": {
            "text/plain": [
              "Textural_class    0\n",
              "Units             0\n",
              "dtype: int64"
            ]
          },
          "execution_count": 108,
          "metadata": {},
          "output_type": "execute_result"
        }
      ],
      "source": [
        "data[categorical_cols].isnull().sum()"
      ]
    },
    {
      "cell_type": "code",
      "execution_count": 109,
      "metadata": {},
      "outputs": [
        {
          "name": "stdout",
          "output_type": "stream",
          "text": [
            "Shape of data: (27483, 23)\n",
            "\n",
            "Detailed statistics:\n"
          ]
        },
        {
          "data": {
            "text/html": [
              "<div>\n",
              "<style scoped>\n",
              "    .dataframe tbody tr th:only-of-type {\n",
              "        vertical-align: middle;\n",
              "    }\n",
              "\n",
              "    .dataframe tbody tr th {\n",
              "        vertical-align: top;\n",
              "    }\n",
              "\n",
              "    .dataframe thead th {\n",
              "        text-align: right;\n",
              "    }\n",
              "</style>\n",
              "<table border=\"1\" class=\"dataframe\">\n",
              "  <thead>\n",
              "    <tr style=\"text-align: right;\">\n",
              "      <th></th>\n",
              "      <th>Depth_cm</th>\n",
              "      <th>Sample_Height_cm</th>\n",
              "      <th>Sample_diameter_cm</th>\n",
              "      <th>Ksat</th>\n",
              "      <th>Bulk_density</th>\n",
              "      <th>Very_coarse</th>\n",
              "      <th>Coarse</th>\n",
              "      <th>Medium</th>\n",
              "      <th>Fine</th>\n",
              "      <th>Very_fine</th>\n",
              "      <th>Sand_percent</th>\n",
              "      <th>Silt_percent</th>\n",
              "      <th>Clay_percent</th>\n",
              "      <th>Coarse_fragments_percent</th>\n",
              "      <th>Organic_matter</th>\n",
              "    </tr>\n",
              "  </thead>\n",
              "  <tbody>\n",
              "    <tr>\n",
              "      <th>count</th>\n",
              "      <td>27483.000000</td>\n",
              "      <td>27483.000000</td>\n",
              "      <td>27483.000000</td>\n",
              "      <td>2.748300e+04</td>\n",
              "      <td>27483.000000</td>\n",
              "      <td>27483.000000</td>\n",
              "      <td>27483.000000</td>\n",
              "      <td>27483.000000</td>\n",
              "      <td>27483.000000</td>\n",
              "      <td>27483.000000</td>\n",
              "      <td>27483.000000</td>\n",
              "      <td>27483.000000</td>\n",
              "      <td>27483.000000</td>\n",
              "      <td>27483.000000</td>\n",
              "      <td>27483.000000</td>\n",
              "    </tr>\n",
              "    <tr>\n",
              "      <th>mean</th>\n",
              "      <td>50.351381</td>\n",
              "      <td>5.005531</td>\n",
              "      <td>5.685920</td>\n",
              "      <td>9.742220e-06</td>\n",
              "      <td>1.410009</td>\n",
              "      <td>0.762779</td>\n",
              "      <td>1.521619</td>\n",
              "      <td>0.413529</td>\n",
              "      <td>3.912468</td>\n",
              "      <td>20.478642</td>\n",
              "      <td>48.294189</td>\n",
              "      <td>10.015154</td>\n",
              "      <td>83.231829</td>\n",
              "      <td>6.841002</td>\n",
              "      <td>0.404529</td>\n",
              "    </tr>\n",
              "    <tr>\n",
              "      <th>std</th>\n",
              "      <td>8.129272</td>\n",
              "      <td>0.196687</td>\n",
              "      <td>3.574158</td>\n",
              "      <td>4.857517e-06</td>\n",
              "      <td>0.007186</td>\n",
              "      <td>0.490705</td>\n",
              "      <td>0.365836</td>\n",
              "      <td>1.311926</td>\n",
              "      <td>4.875534</td>\n",
              "      <td>15.819190</td>\n",
              "      <td>20.169785</td>\n",
              "      <td>8.661838</td>\n",
              "      <td>26.435620</td>\n",
              "      <td>10.015666</td>\n",
              "      <td>0.129403</td>\n",
              "    </tr>\n",
              "    <tr>\n",
              "      <th>min</th>\n",
              "      <td>0.000000</td>\n",
              "      <td>4.000000</td>\n",
              "      <td>0.000000</td>\n",
              "      <td>7.430000e-09</td>\n",
              "      <td>0.950000</td>\n",
              "      <td>0.000000</td>\n",
              "      <td>-0.234150</td>\n",
              "      <td>0.000000</td>\n",
              "      <td>0.000000</td>\n",
              "      <td>0.000000</td>\n",
              "      <td>0.000000</td>\n",
              "      <td>0.000000</td>\n",
              "      <td>0.000000</td>\n",
              "      <td>-3.745905</td>\n",
              "      <td>0.000000</td>\n",
              "    </tr>\n",
              "    <tr>\n",
              "      <th>25%</th>\n",
              "      <td>50.000000</td>\n",
              "      <td>5.000000</td>\n",
              "      <td>5.400000</td>\n",
              "      <td>9.580000e-06</td>\n",
              "      <td>1.410000</td>\n",
              "      <td>1.000000</td>\n",
              "      <td>1.480000</td>\n",
              "      <td>0.000000</td>\n",
              "      <td>0.900000</td>\n",
              "      <td>8.800000</td>\n",
              "      <td>34.200000</td>\n",
              "      <td>4.100000</td>\n",
              "      <td>77.400000</td>\n",
              "      <td>2.200000</td>\n",
              "      <td>0.400000</td>\n",
              "    </tr>\n",
              "    <tr>\n",
              "      <th>50%</th>\n",
              "      <td>50.000000</td>\n",
              "      <td>5.000000</td>\n",
              "      <td>5.400000</td>\n",
              "      <td>9.580000e-06</td>\n",
              "      <td>1.410000</td>\n",
              "      <td>1.000000</td>\n",
              "      <td>1.540000</td>\n",
              "      <td>0.100000</td>\n",
              "      <td>2.300000</td>\n",
              "      <td>16.900000</td>\n",
              "      <td>47.500000</td>\n",
              "      <td>7.800000</td>\n",
              "      <td>91.100000</td>\n",
              "      <td>4.100000</td>\n",
              "      <td>0.400000</td>\n",
              "    </tr>\n",
              "    <tr>\n",
              "      <th>75%</th>\n",
              "      <td>50.000000</td>\n",
              "      <td>5.000000</td>\n",
              "      <td>5.400000</td>\n",
              "      <td>9.580000e-06</td>\n",
              "      <td>1.410000</td>\n",
              "      <td>1.000000</td>\n",
              "      <td>1.600000</td>\n",
              "      <td>0.200000</td>\n",
              "      <td>5.000000</td>\n",
              "      <td>28.200000</td>\n",
              "      <td>62.200000</td>\n",
              "      <td>13.300000</td>\n",
              "      <td>95.600000</td>\n",
              "      <td>7.000000</td>\n",
              "      <td>0.400000</td>\n",
              "    </tr>\n",
              "    <tr>\n",
              "      <th>max</th>\n",
              "      <td>420.000000</td>\n",
              "      <td>10.000000</td>\n",
              "      <td>76.200000</td>\n",
              "      <td>3.340000e-04</td>\n",
              "      <td>1.710000</td>\n",
              "      <td>12.800000</td>\n",
              "      <td>35.200000</td>\n",
              "      <td>29.700000</td>\n",
              "      <td>108.000000</td>\n",
              "      <td>77.700000</td>\n",
              "      <td>98.100000</td>\n",
              "      <td>90.100000</td>\n",
              "      <td>3050.000000</td>\n",
              "      <td>94.500000</td>\n",
              "      <td>5.700000</td>\n",
              "    </tr>\n",
              "  </tbody>\n",
              "</table>\n",
              "</div>"
            ],
            "text/plain": [
              "           Depth_cm  Sample_Height_cm  Sample_diameter_cm          Ksat  \\\n",
              "count  27483.000000      27483.000000        27483.000000  2.748300e+04   \n",
              "mean      50.351381          5.005531            5.685920  9.742220e-06   \n",
              "std        8.129272          0.196687            3.574158  4.857517e-06   \n",
              "min        0.000000          4.000000            0.000000  7.430000e-09   \n",
              "25%       50.000000          5.000000            5.400000  9.580000e-06   \n",
              "50%       50.000000          5.000000            5.400000  9.580000e-06   \n",
              "75%       50.000000          5.000000            5.400000  9.580000e-06   \n",
              "max      420.000000         10.000000           76.200000  3.340000e-04   \n",
              "\n",
              "       Bulk_density   Very_coarse        Coarse        Medium          Fine  \\\n",
              "count  27483.000000  27483.000000  27483.000000  27483.000000  27483.000000   \n",
              "mean       1.410009      0.762779      1.521619      0.413529      3.912468   \n",
              "std        0.007186      0.490705      0.365836      1.311926      4.875534   \n",
              "min        0.950000      0.000000     -0.234150      0.000000      0.000000   \n",
              "25%        1.410000      1.000000      1.480000      0.000000      0.900000   \n",
              "50%        1.410000      1.000000      1.540000      0.100000      2.300000   \n",
              "75%        1.410000      1.000000      1.600000      0.200000      5.000000   \n",
              "max        1.710000     12.800000     35.200000     29.700000    108.000000   \n",
              "\n",
              "          Very_fine  Sand_percent  Silt_percent  Clay_percent  \\\n",
              "count  27483.000000  27483.000000  27483.000000  27483.000000   \n",
              "mean      20.478642     48.294189     10.015154     83.231829   \n",
              "std       15.819190     20.169785      8.661838     26.435620   \n",
              "min        0.000000      0.000000      0.000000      0.000000   \n",
              "25%        8.800000     34.200000      4.100000     77.400000   \n",
              "50%       16.900000     47.500000      7.800000     91.100000   \n",
              "75%       28.200000     62.200000     13.300000     95.600000   \n",
              "max       77.700000     98.100000     90.100000   3050.000000   \n",
              "\n",
              "       Coarse_fragments_percent  Organic_matter  \n",
              "count              27483.000000    27483.000000  \n",
              "mean                   6.841002        0.404529  \n",
              "std                   10.015666        0.129403  \n",
              "min                   -3.745905        0.000000  \n",
              "25%                    2.200000        0.400000  \n",
              "50%                    4.100000        0.400000  \n",
              "75%                    7.000000        0.400000  \n",
              "max                   94.500000        5.700000  "
            ]
          },
          "execution_count": 109,
          "metadata": {},
          "output_type": "execute_result"
        }
      ],
      "source": [
        "print(\"Shape of data:\", data.shape)\n",
        "print(\"\\nDetailed statistics:\")\n",
        "data.describe()"
      ]
    },
    {
      "cell_type": "code",
      "execution_count": 110,
      "metadata": {},
      "outputs": [
        {
          "name": "stdout",
          "output_type": "stream",
          "text": [
            "Correlations with Ksat:\n",
            "Ksat                        1.000000\n",
            "Sample_Height_cm            0.593978\n",
            "Sample_diameter_cm          0.068433\n",
            "Bulk_density                0.042101\n",
            "Very_coarse                 0.027996\n",
            "Clay_percent                0.005642\n",
            "Silt_percent                0.002613\n",
            "Coarse                     -0.004269\n",
            "Sand_percent               -0.004940\n",
            "Medium                     -0.006752\n",
            "Coarse_fragments_percent   -0.009140\n",
            "Very_fine                  -0.009304\n",
            "Fine                       -0.010997\n",
            "Organic_matter             -0.012040\n",
            "Depth_cm                   -0.136460\n",
            "Name: Ksat, dtype: float64\n",
            "\n",
            "\n",
            "Random Forest Feature Importance:\n",
            "                     feature    importance\n",
            "1           Sample_Height_cm  7.324491e-01\n",
            "0                   Depth_cm  1.272341e-01\n",
            "3               Bulk_density  3.769470e-02\n",
            "2         Sample_diameter_cm  3.523943e-02\n",
            "4                Very_coarse  1.373276e-02\n",
            "8                  Very_fine  1.077190e-02\n",
            "10              Silt_percent  9.216246e-03\n",
            "11              Clay_percent  7.926688e-03\n",
            "5                     Coarse  6.907854e-03\n",
            "7                       Fine  6.147522e-03\n",
            "9               Sand_percent  5.991710e-03\n",
            "13            Organic_matter  3.547772e-03\n",
            "6                     Medium  3.140142e-03\n",
            "12  Coarse_fragments_percent  4.214528e-08\n",
            "\n",
            "\n"
          ]
        },
        {
          "data": {
            "image/png": "[encoded data removed]",
            "text/plain": [
              "<Figure size 720x432 with 1 Axes>"
            ]
          },
          "metadata": {
            "needs_background": "light"
          },
          "output_type": "display_data"
        },
        {
          "name": "stdout",
          "output_type": "stream",
          "text": [
            "Selected features based on importance threshold:\n",
            "['Sample_Height_cm', 'Depth_cm', 'Ksat']\n",
            "           Depth_cm  Sample_Height_cm  Sample_diameter_cm          Ksat  \\\n",
            "count  27483.000000      27483.000000        27483.000000  2.748300e+04   \n",
            "mean      50.351381          5.005531            5.685920  9.742220e-06   \n",
            "std        8.129272          0.196687            3.574158  4.857517e-06   \n",
            "min        0.000000          4.000000            0.000000  7.430000e-09   \n",
            "25%       50.000000          5.000000            5.400000  9.580000e-06   \n",
            "50%       50.000000          5.000000            5.400000  9.580000e-06   \n",
            "75%       50.000000          5.000000            5.400000  9.580000e-06   \n",
            "max      420.000000         10.000000           76.200000  3.340000e-04   \n",
            "\n",
            "       Bulk_density   Very_coarse        Coarse        Medium          Fine  \\\n",
            "count  27483.000000  27483.000000  27483.000000  27483.000000  27483.000000   \n",
            "mean       1.410009      0.762779      1.521619      0.413529      3.912468   \n",
            "std        0.007186      0.490705      0.365836      1.311926      4.875534   \n",
            "min        0.950000      0.000000     -0.234150      0.000000      0.000000   \n",
            "25%        1.410000      1.000000      1.480000      0.000000      0.900000   \n",
            "50%        1.410000      1.000000      1.540000      0.100000      2.300000   \n",
            "75%        1.410000      1.000000      1.600000      0.200000      5.000000   \n",
            "max        1.710000     12.800000     35.200000     29.700000    108.000000   \n",
            "\n",
            "          Very_fine  Sand_percent  Silt_percent  Clay_percent  \\\n",
            "count  27483.000000  27483.000000  27483.000000  27483.000000   \n",
            "mean      20.478642     48.294189     10.015154     83.231829   \n",
            "std       15.819190     20.169785      8.661838     26.435620   \n",
            "min        0.000000      0.000000      0.000000      0.000000   \n",
            "25%        8.800000     34.200000      4.100000     77.400000   \n",
            "50%       16.900000     47.500000      7.800000     91.100000   \n",
            "75%       28.200000     62.200000     13.300000     95.600000   \n",
            "max       77.700000     98.100000     90.100000   3050.000000   \n",
            "\n",
            "       Coarse_fragments_percent  Organic_matter  \n",
            "count              27483.000000    27483.000000  \n",
            "mean                   6.841002        0.404529  \n",
            "std                   10.015666        0.129403  \n",
            "min                   -3.745905        0.000000  \n",
            "25%                    2.200000        0.400000  \n",
            "50%                    4.100000        0.400000  \n",
            "75%                    7.000000        0.400000  \n",
            "max                   94.500000        5.700000  \n"
          ]
        }
      ],
      "source": [
        "# Feature selection using different techniques\n",
        "\n",
        "# 1. Correlation with target variable (Ksat)\n",
        "correlations = data[numeric_columns].corr()['Ksat'].sort_values(ascending=False)\n",
        "print(\"Correlations with Ksat:\")\n",
        "print(correlations)\n",
        "print(\"\\n\")\n",
        "\n",
        "# 2. Feature importance using Random Forest\n",
        "from sklearn.ensemble import RandomForestRegressor\n",
        "from sklearn.preprocessing import LabelEncoder\n",
        "\n",
        "# Prepare data for Random Forest\n",
        "X = data[numeric_columns].drop('Ksat', axis=1)\n",
        "y = data['Ksat']\n",
        "\n",
        "# Initialize and fit Random Forest\n",
        "rf = RandomForestRegressor(n_estimators=100, random_state=42)\n",
        "rf.fit(X, y)\n",
        "\n",
        "# Get feature importance scores\n",
        "feature_importance = pd.DataFrame({\n",
        "    'feature': X.columns,\n",
        "    'importance': rf.feature_importances_\n",
        "})\n",
        "feature_importance = feature_importance.sort_values('importance', ascending=False)\n",
        "\n",
        "print(\"Random Forest Feature Importance:\")\n",
        "print(feature_importance)\n",
        "print(\"\\n\")\n",
        "\n",
        "# Visualize feature importance\n",
        "plt.figure(figsize=(10, 6))\n",
        "sns.barplot(x='importance', y='feature', data=feature_importance)\n",
        "plt.title('Feature Importance from Random Forest')\n",
        "plt.show()\n",
        "\n",
        "# Select top features based on importance threshold\n",
        "importance_threshold = 0.05  # Adjust this threshold as needed\n",
        "selected_features = feature_importance[feature_importance['importance'] > importance_threshold]['feature'].tolist()\n",
        "selected_features.append('Ksat')  # Add target variable back\n",
        "\n",
        "print(\"Selected features based on importance threshold:\")\n",
        "print(selected_features)\n",
        "\n",
        "# Create dataset with selected features\n",
        "data_selected = data[selected_features]\n",
        "\n",
        "# Summary statistics for numerical features\n",
        "print(data.describe())\n",
        "\n"
      ]
    },
    {
      "cell_type": "code",
      "execution_count": 111,
      "metadata": {
        "id": "LRBZYNPZBVda"
      },
      "outputs": [
        {
          "name": "stdout",
          "output_type": "stream",
          "text": [
            "Feature Importance (Mutual Info):\n",
            "                     Feature     Score\n",
            "1           Sample_Height_cm  0.032450\n",
            "0                   Depth_cm  0.013860\n",
            "2         Sample_diameter_cm  0.005974\n",
            "4                Very_coarse  0.005672\n",
            "11              Clay_percent  0.005634\n",
            "10              Silt_percent  0.005492\n",
            "13            Organic_matter  0.004183\n",
            "6                     Medium  0.003862\n",
            "12  Coarse_fragments_percent  0.003489\n",
            "3               Bulk_density  0.002955\n",
            "5                     Coarse  0.002243\n",
            "7                       Fine  0.000000\n",
            "8                  Very_fine  0.000000\n",
            "9               Sand_percent  0.000000\n"
          ]
        }
      ],
      "source": [
        "# Import required libraries\n",
        "from sklearn.feature_selection import SelectKBest, mutual_info_regression\n",
        "from sklearn.impute import SimpleImputer\n",
        "\n",
        "try:\n",
        "    # Define features and target variables\n",
        "    features = data[numeric_columns].drop('Ksat', axis=1)\n",
        "    target = data['Ksat']\n",
        "\n",
        "    # Drop columns with too many missing values or non-numeric types\n",
        "    valid_numeric_cols = features.columns[features.notna().sum() > 0]\n",
        "    features_clean = features[valid_numeric_cols]\n",
        "\n",
        "    # Re-impute missing values\n",
        "    features_imputed = pd.DataFrame(\n",
        "        SimpleImputer(strategy='median').fit_transform(features_clean),\n",
        "        columns=features_clean.columns\n",
        "    )\n",
        "\n",
        "    # Run SelectKBest with mutual_info_regression\n",
        "    selector = SelectKBest(score_func=mutual_info_regression, k='all')\n",
        "    selector.fit(features_imputed, target)\n",
        "\n",
        "    # Create DataFrame of feature scores\n",
        "    feature_scores = pd.DataFrame({\n",
        "        'Feature': features_imputed.columns,\n",
        "        'Score': selector.scores_\n",
        "    }).sort_values(by='Score', ascending=False)\n",
        "\n",
        "    # Display top features\n",
        "    print(\"Feature Importance (Mutual Info):\")\n",
        "    print(feature_scores)\n",
        "\n",
        "    feature_scores.head(10)\n",
        "\n",
        "except NameError as e:\n",
        "    print(f\"NameError: {str(e)}\")\n",
        "    print(\"Please ensure 'data' and 'numeric_columns' are defined before running this cell\")\n",
        "except Exception as e:\n",
        "    print(f\"An error occurred: {str(e)}\")\n"
      ]
    },
    {
      "cell_type": "code",
      "execution_count": 112,
      "metadata": {},
      "outputs": [
        {
          "name": "stdout",
          "output_type": "stream",
          "text": [
            "Non-null counts for top features:\n",
            "Sample_Height_cm            27483\n",
            "Depth_cm                    27483\n",
            "Sample_diameter_cm          27483\n",
            "Very_coarse                 27483\n",
            "Clay_percent                27483\n",
            "Silt_percent                27483\n",
            "Organic_matter              27483\n",
            "Medium                      27483\n",
            "Coarse_fragments_percent    27483\n",
            "Bulk_density                27483\n",
            "Ksat                        27483\n",
            "dtype: int64\n"
          ]
        }
      ],
      "source": [
        "# Get top 10 features from previous feature importance analysis\n",
        "top_features_corrected = feature_scores['Feature'].head(10).tolist()\n",
        "\n",
        "# Check non-null counts for the selected features + target\n",
        "non_null_counts = data[top_features_corrected + ['Ksat']].notnull().sum().sort_values()\n",
        "\n",
        "print(\"Non-null counts for top features:\")\n",
        "print(non_null_counts)\n"
      ]
    },
    {
      "cell_type": "code",
      "execution_count": 113,
      "metadata": {},
      "outputs": [
        {
          "name": "stdout",
          "output_type": "stream",
          "text": [
            "\n",
            "Skewness of top features:\n",
            "Sample_Height_cm            22.450923\n",
            "Depth_cm                    16.874319\n",
            "Sample_diameter_cm          18.199072\n",
            "Very_coarse                  2.675666\n",
            "Clay_percent                50.619706\n",
            "Silt_percent                 2.073559\n",
            "Organic_matter              28.319557\n",
            "Medium                       8.215031\n",
            "Coarse_fragments_percent     4.287809\n",
            "Bulk_density                -8.990356\n",
            "dtype: float64\n"
          ]
        },
        {
          "data": {
            "text/plain": [
              "<Figure size 1080x720 with 0 Axes>"
            ]
          },
          "metadata": {},
          "output_type": "display_data"
        },
        {
          "data": {
            "image/png": "[encoded data removed]",
            "text/plain": [
              "<Figure size 1080x720 with 12 Axes>"
            ]
          },
          "metadata": {
            "needs_background": "light"
          },
          "output_type": "display_data"
        },
        {
          "name": "stdout",
          "output_type": "stream",
          "text": [
            "\n",
            "Highly skewed features (abs(skew) > 0.5):\n",
            "Sample_Height_cm            22.450923\n",
            "Depth_cm                    16.874319\n",
            "Sample_diameter_cm          18.199072\n",
            "Very_coarse                  2.675666\n",
            "Clay_percent                50.619706\n",
            "Silt_percent                 2.073559\n",
            "Organic_matter              28.319557\n",
            "Medium                       8.215031\n",
            "Coarse_fragments_percent     4.287809\n",
            "Bulk_density                -8.990356\n",
            "dtype: float64\n"
          ]
        }
      ],
      "source": [
        "# Check skewness of features\n",
        "skewness = data[top_features_corrected].skew()\n",
        "print(\"\\nSkewness of top features:\")\n",
        "print(skewness)\n",
        "\n",
        "# Visualize skewness with histograms\n",
        "plt.figure(figsize=(15, 10))\n",
        "data[top_features_corrected].hist(bins=30, figsize=(15, 10))\n",
        "plt.tight_layout()\n",
        "plt.show()\n",
        "\n",
        "# Define threshold for high skewness\n",
        "high_skew_threshold = 0.5\n",
        "highly_skewed = skewness[abs(skewness) > high_skew_threshold]\n",
        "print(\"\\nHighly skewed features (abs(skew) > 0.5):\")\n",
        "print(highly_skewed)\n"
      ]
    },
    {
      "cell_type": "code",
      "execution_count": 114,
      "metadata": {},
      "outputs": [
        {
          "name": "stdout",
          "output_type": "stream",
          "text": [
            "Original feature count: 10\n",
            "Total features after engineering: 77\n",
            "\n",
            "Sample of engineered features:\n",
            "   Sample_Height_cm  Depth_cm  Sample_diameter_cm  Very_coarse  Clay_percent  \\\n",
            "0               4.0       0.0                 5.4          3.5          14.8   \n",
            "1               4.0      50.0                 5.4          2.9          47.9   \n",
            "2               4.0       0.0                 5.4          6.1          12.6   \n",
            "3               4.0      50.0                 5.4          1.6          68.2   \n",
            "4               4.0       0.0                 5.4          6.1          13.9   \n",
            "\n",
            "   Silt_percent  Organic_matter  Medium  Coarse_fragments_percent  \\\n",
            "0          59.4             5.5     5.2                       4.1   \n",
            "1          36.0             0.7     3.6                       4.1   \n",
            "2          60.5             4.5     5.2                       4.1   \n",
            "3          34.5             0.4     1.4                       4.1   \n",
            "4          60.9             5.2     4.9                       4.1   \n",
            "\n",
            "   Bulk_density  ...  Organic_matter_squared  Organic_matter_cubed  \\\n",
            "0          1.24  ...                   30.25               166.375   \n",
            "1          1.45  ...                    0.49                 0.343   \n",
            "2          1.35  ...                   20.25                91.125   \n",
            "3          1.41  ...                    0.16                 0.064   \n",
            "4          1.25  ...                   27.04               140.608   \n",
            "\n",
            "   Medium_squared  Medium_cubed  Coarse_fragments_percent_squared  \\\n",
            "0           27.04       140.608                             16.81   \n",
            "1           12.96        46.656                             16.81   \n",
            "2           27.04       140.608                             16.81   \n",
            "3            1.96         2.744                             16.81   \n",
            "4           24.01       117.649                             16.81   \n",
            "\n",
            "   Coarse_fragments_percent_cubed  Bulk_density_squared  Bulk_density_cubed  \\\n",
            "0                          68.921                1.5376            1.906624   \n",
            "1                          68.921                2.1025            3.048625   \n",
            "2                          68.921                1.8225            2.460375   \n",
            "3                          68.921                1.9881            2.803221   \n",
            "4                          68.921                1.5625            1.953125   \n",
            "\n",
            "   Sample_Height_cm_log  Bulk_density_log  \n",
            "0              1.609438          0.806476  \n",
            "1              1.609438          0.896088  \n",
            "2              1.609438          0.854415  \n",
            "3              1.609438          0.879627  \n",
            "4              1.609438          0.810930  \n",
            "\n",
            "[5 rows x 77 columns]\n"
          ]
        }
      ],
      "source": [
        "# Feature Engineering\n",
        "\n",
        "# Create interaction terms between top numerical features\n",
        "interaction_terms = {}\n",
        "for i in range(len(top_features_corrected)):\n",
        "    for j in range(i+1, len(top_features_corrected)):\n",
        "        feat1 = top_features_corrected[i]\n",
        "        feat2 = top_features_corrected[j]\n",
        "        col_name = f\"{feat1}_{feat2}_interaction\"\n",
        "        interaction_terms[col_name] = data[feat1] * data[feat2]\n",
        "\n",
        "# Add polynomial features for top features\n",
        "poly_terms = {}\n",
        "for feature in top_features_corrected:\n",
        "    poly_terms[f\"{feature}_squared\"] = data[feature] ** 2\n",
        "    poly_terms[f\"{feature}_cubed\"] = data[feature] ** 3\n",
        "\n",
        "# Create log transformations for highly skewed features\n",
        "log_terms = {}\n",
        "for feature in top_features_corrected:\n",
        "    if (data[feature] > 0).all():  # Only apply log to positive values\n",
        "        log_terms[f\"{feature}_log\"] = np.log1p(data[feature])\n",
        "\n",
        "# Combine all engineered features\n",
        "engineered_features = pd.DataFrame({\n",
        "    **interaction_terms,\n",
        "    **poly_terms, \n",
        "    **log_terms\n",
        "})\n",
        "\n",
        "# Combine original and engineered features\n",
        "X_engineered = pd.concat([data[top_features_corrected], engineered_features], axis=1)\n",
        "\n",
        "print(\"Original feature count:\", len(top_features_corrected))\n",
        "print(\"Total features after engineering:\", X_engineered.shape[1])\n",
        "\n",
        "# Display sample of engineered features\n",
        "print(\"\\nSample of engineered features:\")\n",
        "print(X_engineered.head())\n"
      ]
    },
    {
      "cell_type": "code",
      "execution_count": 115,
      "metadata": {},
      "outputs": [
        {
          "data": {
            "image/png": "[encoded data removed]",
            "text/plain": [
              "<Figure size 720x288 with 1 Axes>"
            ]
          },
          "metadata": {
            "needs_background": "light"
          },
          "output_type": "display_data"
        },
        {
          "data": {
            "text/plain": [
              "((27483, 6),\n",
              " count    2.748300e+04\n",
              " mean     9.742220e-06\n",
              " std      4.857517e-06\n",
              " min      7.430000e-09\n",
              " 25%      9.580000e-06\n",
              " 50%      9.580000e-06\n",
              " 75%      9.580000e-06\n",
              " max      3.340000e-04\n",
              " Name: Ksat, dtype: float64)"
            ]
          },
          "execution_count": 115,
          "metadata": {},
          "output_type": "execute_result"
        }
      ],
      "source": [
        "from sklearn.preprocessing import StandardScaler\n",
        "import matplotlib.pyplot as plt\n",
        "import seaborn as sns\n",
        "\n",
        "# Define feature set and target\n",
        "feature_cols = [\n",
        "    'Sample_Height_cm', 'Sample_diameter_cm', 'Bulk_density',\n",
        "    'Depth_cm', 'Silt_percent', 'Clay_percent'\n",
        "]\n",
        "target_col = 'Ksat'\n",
        "\n",
        "# Use original data since engineered features don't have the expected column names\n",
        "X = data[feature_cols]\n",
        "y = data[target_col]\n",
        "\n",
        "# Standardize the features\n",
        "scaler = StandardScaler()\n",
        "X_scaled = scaler.fit_transform(X)\n",
        "\n",
        "# Check target distribution (imbalance)\n",
        "plt.figure(figsize=(10, 4))\n",
        "sns.histplot(y, bins=50, kde=True)\n",
        "plt.title('Ksat Distribution')\n",
        "plt.xlabel('Ksat')\n",
        "plt.ylabel('Frequency')\n",
        "plt.grid(True)\n",
        "plt.tight_layout()\n",
        "plt.show()\n",
        "\n",
        "# Return standardized feature shape and basic stats of target\n",
        "X_scaled.shape, y.describe()\n"
      ]
    },
    {
      "cell_type": "code",
      "execution_count": 116,
      "metadata": {},
      "outputs": [
        {
          "data": {
            "image/png": "[encoded data removed]",
            "text/plain": [
              "<Figure size 720x288 with 1 Axes>"
            ]
          },
          "metadata": {
            "needs_background": "light"
          },
          "output_type": "display_data"
        },
        {
          "data": {
            "text/plain": [
              "count    2.748300e+04\n",
              "mean     9.742161e-06\n",
              "std      4.857017e-06\n",
              "min      7.430000e-09\n",
              "25%      9.579954e-06\n",
              "50%      9.579954e-06\n",
              "75%      9.579954e-06\n",
              "max      3.339442e-04\n",
              "Name: Ksat, dtype: float64"
            ]
          },
          "execution_count": 116,
          "metadata": {},
          "output_type": "execute_result"
        }
      ],
      "source": [
        "# Apply log transformation to Ksat\n",
        "y_log = np.log1p(y)\n",
        "\n",
        "# Plot the transformed target\n",
        "plt.figure(figsize=(10, 4))\n",
        "sns.histplot(y_log, bins=50, kde=True, color=\"skyblue\")\n",
        "plt.title('Log-Transformed Ksat Distribution')\n",
        "plt.xlabel('log1p(Ksat)')\n",
        "plt.ylabel('Frequency')\n",
        "plt.grid(True)\n",
        "plt.tight_layout()\n",
        "plt.show()\n",
        "\n",
        "# Show basic stats\n",
        "y_log.describe()\n"
      ]
    },
    {
      "cell_type": "code",
      "execution_count": 117,
      "metadata": {},
      "outputs": [
        {
          "data": {
            "image/png": "[encoded data removed]",
            "text/plain": [
              "<Figure size 576x360 with 1 Axes>"
            ]
          },
          "metadata": {
            "needs_background": "light"
          },
          "output_type": "display_data"
        },
        {
          "data": {
            "text/plain": [
              "Ksat\n",
              "Very Low     27483\n",
              "Low              0\n",
              "Moderate         0\n",
              "High             0\n",
              "Very High        0\n",
              "Name: count, dtype: int64"
            ]
          },
          "execution_count": 117,
          "metadata": {},
          "output_type": "execute_result"
        }
      ],
      "source": [
        "# Create Ksat class bins (e.g., Very Low, Low, Moderate, High, Very High)\n",
        "bins = [-np.inf, 0.001, 0.1, 1, 10, np.inf]\n",
        "labels = ['Very Low', 'Low', 'Moderate', 'High', 'Very High']\n",
        "\n",
        "# Apply binning to the original Ksat values\n",
        "ksat_classes = pd.cut(y, bins=bins, labels=labels)\n",
        "\n",
        "# Plot class distribution\n",
        "plt.figure(figsize=(8, 5))\n",
        "sns.countplot(x=ksat_classes, order=labels, palette='viridis')\n",
        "plt.title('Ksat Class Distribution')\n",
        "plt.xlabel('Ksat Class')\n",
        "plt.ylabel('Frequency')\n",
        "plt.grid(axis='y')\n",
        "plt.tight_layout()\n",
        "plt.show()\n",
        "\n",
        "# Return distribution counts\n",
        "ksat_classes.value_counts().sort_index()\n"
      ]
    },
    {
      "cell_type": "code",
      "execution_count": 118,
      "metadata": {},
      "outputs": [
        {
          "data": {
            "text/plain": [
              "(-0.001000327, 3.34e-05]    27430\n",
              "(3.34e-05, 6.68e-05]           20\n",
              "(6.68e-05, 0.0001]             15\n",
              "(0.0001, 0.000134]              7\n",
              "(0.000134, 0.000167]            5\n",
              "(0.0002, 0.000234]              3\n",
              "(0.000301, 0.000334]            2\n",
              "(0.000167, 0.0002]              1\n",
              "(0.000234, 0.000267]            0\n",
              "(0.000267, 0.000301]            0\n",
              "Name: count, dtype: int64"
            ]
          },
          "execution_count": 118,
          "metadata": {},
          "output_type": "execute_result"
        }
      ],
      "source": [
        "y.describe()\n",
        "y.value_counts(bins=10)\n"
      ]
    },
    {
      "cell_type": "code",
      "execution_count": 119,
      "metadata": {},
      "outputs": [
        {
          "data": {
            "image/png": "[encoded data removed]",
            "text/plain": [
              "<Figure size 720x288 with 1 Axes>"
            ]
          },
          "metadata": {
            "needs_background": "light"
          },
          "output_type": "display_data"
        },
        {
          "data": {
            "text/plain": [
              "(count    2.748300e+04\n",
              " mean     9.742220e-06\n",
              " std      4.857517e-06\n",
              " min      7.430000e-09\n",
              " 25%      9.580000e-06\n",
              " 50%      9.580000e-06\n",
              " 75%      9.580000e-06\n",
              " max      3.340000e-04\n",
              " Name: Ksat, dtype: float64,\n",
              " Ksat\n",
              " (-3.27e-07, 3.34e-05]    27430\n",
              " (3.34e-05, 6.68e-05]        20\n",
              " (6.68e-05, 0.0001]          15\n",
              " (0.0001, 0.000134]           7\n",
              " (0.000134, 0.000167]         5\n",
              " (0.000167, 0.0002]           1\n",
              " (0.0002, 0.000234]           3\n",
              " (0.000234, 0.000267]         0\n",
              " (0.000267, 0.000301]         0\n",
              " (0.000301, 0.000334]         2\n",
              " Name: count, dtype: int64)"
            ]
          },
          "execution_count": 119,
          "metadata": {},
          "output_type": "execute_result"
        }
      ],
      "source": [
        "# Recheck Ksat target variable before splitting or modeling\n",
        "ksat_summary = y.describe()\n",
        "ksat_bins = pd.cut(y, bins=10).value_counts().sort_index()\n",
        "\n",
        "# Plot the actual distribution of Ksat (non-log)\n",
        "plt.figure(figsize=(10, 4))\n",
        "sns.histplot(y, bins=50, kde=True, color=\"coral\")\n",
        "plt.title('Actual Ksat Value Distribution')\n",
        "plt.xlabel('Ksat (cm/hr)')\n",
        "plt.ylabel('Frequency')\n",
        "plt.grid(True)\n",
        "plt.tight_layout()\n",
        "plt.show()\n",
        "\n",
        "ksat_summary, ksat_bins\n"
      ]
    },
    {
      "cell_type": "markdown",
      "metadata": {},
      "source": [
        "Baseline model"
      ]
    },
    {
      "cell_type": "code",
      "execution_count": 120,
      "metadata": {},
      "outputs": [
        {
          "data": {
            "text/plain": [
              "(5.62229595933649e-06, -0.0002492199653227889)"
            ]
          },
          "execution_count": 120,
          "metadata": {},
          "output_type": "execute_result"
        }
      ],
      "source": [
        "from sklearn.model_selection import train_test_split\n",
        "from sklearn.dummy import DummyRegressor\n",
        "from sklearn.metrics import mean_squared_log_error, r2_score\n",
        "import numpy as np\n",
        "\n",
        "# Train-test split (80/20)\n",
        "X_train, X_test, y_train_log, y_test_log = train_test_split(\n",
        "    X_scaled, y_log, test_size=0.2, random_state=42\n",
        ")\n",
        "\n",
        "# Baseline model (mean predictor)\n",
        "baseline_model = DummyRegressor(strategy='mean')\n",
        "baseline_model.fit(X_train, y_train_log)\n",
        "y_pred_log_baseline = baseline_model.predict(X_test)\n",
        "\n",
        "# Evaluate in log space\n",
        "rmsle_baseline = np.sqrt(mean_squared_log_error(y_test_log, y_pred_log_baseline))\n",
        "r2_baseline = r2_score(y_test_log, y_pred_log_baseline)\n",
        "\n",
        "rmsle_baseline, r2_baseline\n"
      ]
    },
    {
      "cell_type": "code",
      "execution_count": 122,
      "metadata": {},
      "outputs": [
        {
          "data": {
            "text/plain": [
              "(3.0912160589856848e-06, 0.6976088513545392)"
            ]
          },
          "execution_count": 122,
          "metadata": {},
          "output_type": "execute_result"
        }
      ],
      "source": [
        "from sklearn.ensemble import RandomForestRegressor\n",
        "from sklearn.metrics import mean_squared_log_error\n",
        "\n",
        "# Train a Random Forest model with default parameters\n",
        "rf_model = RandomForestRegressor(n_estimators=100, random_state=42)\n",
        "rf_model.fit(X_train, y_train_log)\n",
        "\n",
        "# Predict on test data\n",
        "y_pred_log_rf = rf_model.predict(X_test)\n",
        "\n",
        "# Evaluate in log scale\n",
        "rmsle_rf = np.sqrt(mean_squared_log_error(y_test_log, y_pred_log_rf))\n",
        "r2_rf = r2_score(y_test_log, y_pred_log_rf)\n",
        "\n",
        "rmsle_rf, r2_rf\n"
      ]
    },
    {
      "cell_type": "code",
      "execution_count": 123,
      "metadata": {},
      "outputs": [
        {
          "ename": "NameError",
          "evalue": "name 'y_pred_log_mlp' is not defined",
          "output_type": "error",
          "traceback": [
            "\u001b[1;31m---------------------------------------------------------------------------\u001b[0m",
            "\u001b[1;31mNameError\u001b[0m                                 Traceback (most recent call last)",
            "Input \u001b[1;32mIn [123]\u001b[0m, in \u001b[0;36m<cell line: 2>\u001b[1;34m()\u001b[0m\n\u001b[0;32m      1\u001b[0m \u001b[38;5;66;03m# Clip negative predictions to zero\u001b[39;00m\n\u001b[1;32m----> 2\u001b[0m y_pred_log_mlp \u001b[38;5;241m=\u001b[39m np\u001b[38;5;241m.\u001b[39mmaximum(\u001b[43my_pred_log_mlp\u001b[49m, \u001b[38;5;241m0\u001b[39m)\n\u001b[0;32m      4\u001b[0m \u001b[38;5;66;03m# Recalculate metrics\u001b[39;00m\n\u001b[0;32m      5\u001b[0m rmsle_mlp \u001b[38;5;241m=\u001b[39m np\u001b[38;5;241m.\u001b[39msqrt(mean_squared_log_error(y_test_log, y_pred_log_mlp))\n",
            "\u001b[1;31mNameError\u001b[0m: name 'y_pred_log_mlp' is not defined"
          ]
        }
      ],
      "source": [
        "# Clip negative predictions to zero\n",
        "y_pred_log_mlp = np.maximum(y_pred_log_mlp, 0)\n",
        "\n",
        "# Recalculate metrics\n",
        "rmsle_mlp = np.sqrt(mean_squared_log_error(y_test_log, y_pred_log_mlp))\n",
        "r2_mlp = r2_score(y_test_log, y_pred_log_mlp)\n",
        "\n",
        "rmsle_mlp, r2_mlp\n",
        "\n"
      ]
    },
    {
      "cell_type": "markdown",
      "metadata": {
        "id": "Dl70mpyY1B9d"
      },
      "source": [
        "#Baseline model (Before preprocessing)"
      ]
    },
    {
      "cell_type": "markdown",
      "metadata": {
        "id": "_pF-gcrj05hp"
      },
      "source": [
        "Now lets create a baseline model (Linear regression before data preprocessing)"
      ]
    },
    {
      "cell_type": "code",
      "execution_count": 66,
      "metadata": {
        "id": "AqUZ_48e1sS3"
      },
      "outputs": [],
      "source": []
    }
  ],
  "metadata": {
    "colab": {
      "provenance": []
    },
    "kernelspec": {
      "display_name": "Python 3",
      "name": "python3"
    },
    "language_info": {
      "codemirror_mode": {
        "name": "ipython",
        "version": 3
      },
      "file_extension": ".py",
      "mimetype": "text/x-python",
      "name": "python",
      "nbconvert_exporter": "python",
      "pygments_lexer": "ipython3",
      "version": "3.10.12"
    }
  },
  "nbformat": 4,
  "nbformat_minor": 0
}
